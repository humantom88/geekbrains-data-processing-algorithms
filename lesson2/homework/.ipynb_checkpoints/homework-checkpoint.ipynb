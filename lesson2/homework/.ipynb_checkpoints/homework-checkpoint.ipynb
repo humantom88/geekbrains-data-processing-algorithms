{
 "cells": [
  {
   "cell_type": "code",
   "execution_count": 4,
   "metadata": {},
   "outputs": [],
   "source": [
    "import numpy as np\n",
    "import matplotlib.pyplot as plt\n",
    "import pandas as pd\n",
    "\n",
    "def manhattan_distance(v1, v2):\n",
    "    return sum(abs(x - y) for (x, y) in zip(v1, v2))\n",
    "\n",
    "def calc_mse(y, y_pred):\n",
    "    err = np.mean((y - y_pred)**2)\n",
    "    return err\n",
    "\n",
    "def calc_mae(y, y_pred):\n",
    "    err = manhattan_distance(y, y_pred)/y.shape(0)\n",
    "    return err\n",
    "\n",
    "def min_max_scale(X):\n",
    "    return (X - X.min()) / (X.max() - X.min())\n",
    "\n",
    "def standart_scale(X):\n",
    "    mean = X.mean()\n",
    "    std = X.std()\n",
    "    return (X - mean) / std\n",
    "\n",
    "def gradient_descent_reg_l2(X, y, iterations, eta, reg, x_shape_index=0, log=False):\n",
    "    W = np.random.randn(X.shape[x_shape_index])\n",
    "    n = X.shape[x_shape_index]\n",
    "    \n",
    "    for i in range(0, iterations):\n",
    "        y_pred = np.dot(X, W)\n",
    "        err = calc_mse(y, y_pred)\n",
    "        \n",
    "        dQ = 2/n * X.T @ (y_pred - y) # градиент функции ошибки\n",
    "        dReg = reg * W # градиент регуляризации\n",
    "        \n",
    "        W -= eta * dQ + dReg\n",
    "        \n",
    "        if i % (iterations / 10) == 0 and log:\n",
    "            print(f'Iter: {i}, weights: {W}, error {err}')\n",
    "    \n",
    "    if log:\n",
    "        print(f'Final MSE: {calc_mse(y, np.dot(X, W))}')\n",
    "    return W"
   ]
  },
  {
   "cell_type": "markdown",
   "metadata": {},
   "source": [
    "## Задание 1"
   ]
  },
  {
   "cell_type": "markdown",
   "metadata": {},
   "source": [
    "Постройте график зависимости весов всех признаков от lambda в самописной L2-регуляризации (на данных про ЕГЭ). Сделайте вывод"
   ]
  },
  {
   "cell_type": "code",
   "execution_count": 5,
   "metadata": {},
   "outputs": [],
   "source": [
    "# Вес w0; стаж репетитора; стоимость часа занятий; количество занятий в неделю\n",
    "X = np.array([[   1,    1,  500,    1],\n",
    "              [   1,    1,  700,    1],\n",
    "              [   1,    2,  750,    2],\n",
    "              [   1,    5,  600,    1],\n",
    "              [   1,    3, 1450,    2],\n",
    "              [   1,    0,  800,    1],\n",
    "              [   1,    5, 1500,    3],\n",
    "              [   1,   10, 2000,    3],\n",
    "              [   1,    1,  450,    1],\n",
    "              [   1,    2, 1000,    2]])"
   ]
  },
  {
   "cell_type": "code",
   "execution_count": 6,
   "metadata": {},
   "outputs": [],
   "source": [
    "y = [45, 55, 50, 55, 60, 35, 75, 80, 50, 60]"
   ]
  },
  {
   "cell_type": "markdown",
   "metadata": {},
   "source": [
    "Нормализуем данные стажа и стоимости часа, чтобы они были примерно того-же порядка, что и вес w0"
   ]
  },
  {
   "cell_type": "code",
   "execution_count": 7,
   "metadata": {},
   "outputs": [
    {
     "data": {
      "text/plain": [
       "array([[1.00e+00, 1.00e+00, 5.00e+02, 1.00e+00],\n",
       "       [1.00e+00, 1.00e+00, 7.00e+02, 1.00e+00],\n",
       "       [1.00e+00, 2.00e+00, 7.50e+02, 2.00e+00],\n",
       "       [1.00e+00, 5.00e+00, 6.00e+02, 1.00e+00],\n",
       "       [1.00e+00, 3.00e+00, 1.45e+03, 2.00e+00],\n",
       "       [1.00e+00, 0.00e+00, 8.00e+02, 1.00e+00],\n",
       "       [1.00e+00, 5.00e+00, 1.50e+03, 3.00e+00],\n",
       "       [1.00e+00, 1.00e+01, 2.00e+03, 3.00e+00],\n",
       "       [1.00e+00, 1.00e+00, 4.50e+02, 1.00e+00],\n",
       "       [1.00e+00, 2.00e+00, 1.00e+03, 2.00e+00]])"
      ]
     },
     "execution_count": 7,
     "metadata": {},
     "output_type": "execute_result"
    }
   ],
   "source": [
    "X_norm = X.copy()\n",
    "X_norm = X_norm.astype(np.float64)\n",
    "X_norm"
   ]
  },
  {
   "cell_type": "code",
   "execution_count": 8,
   "metadata": {},
   "outputs": [
    {
     "data": {
      "text/plain": [
       "array([[1.        , 0.1       , 0.03225806, 1.        ],\n",
       "       [1.        , 0.1       , 0.16129032, 1.        ],\n",
       "       [1.        , 0.2       , 0.19354839, 2.        ],\n",
       "       [1.        , 0.5       , 0.09677419, 1.        ],\n",
       "       [1.        , 0.3       , 0.64516129, 2.        ],\n",
       "       [1.        , 0.        , 0.22580645, 1.        ],\n",
       "       [1.        , 0.5       , 0.67741935, 3.        ],\n",
       "       [1.        , 1.        , 1.        , 3.        ],\n",
       "       [1.        , 0.1       , 0.        , 1.        ],\n",
       "       [1.        , 0.2       , 0.35483871, 2.        ]])"
      ]
     },
     "execution_count": 8,
     "metadata": {},
     "output_type": "execute_result"
    }
   ],
   "source": [
    "X_norm[:, 1] = min_max_scale(X_norm[:, 1])\n",
    "X_norm[:, 2] = min_max_scale(X_norm[:, 2])\n",
    "X_norm"
   ]
  },
  {
   "cell_type": "markdown",
   "metadata": {},
   "source": [
    "Стандартизируем данные"
   ]
  },
  {
   "cell_type": "code",
   "execution_count": 9,
   "metadata": {},
   "outputs": [
    {
     "data": {
      "text/plain": [
       "array([[ 1.        , -0.70710678, -0.97958969,  1.        ],\n",
       "       [ 1.        , -0.70710678, -0.56713087,  1.        ],\n",
       "       [ 1.        , -0.35355339, -0.46401617,  2.        ],\n",
       "       [ 1.        ,  0.70710678, -0.77336028,  1.        ],\n",
       "       [ 1.        ,  0.        ,  0.97958969,  2.        ],\n",
       "       [ 1.        , -1.06066017, -0.36090146,  1.        ],\n",
       "       [ 1.        ,  0.70710678,  1.08270439,  3.        ],\n",
       "       [ 1.        ,  2.47487373,  2.11385144,  3.        ],\n",
       "       [ 1.        , -0.70710678, -1.08270439,  1.        ],\n",
       "       [ 1.        , -0.35355339,  0.05155735,  2.        ]])"
      ]
     },
     "execution_count": 9,
     "metadata": {},
     "output_type": "execute_result"
    }
   ],
   "source": [
    "X_st = X.copy().astype(np.float64)\n",
    "X_st[:, 1] = standart_scale(X_st[:, 1])\n",
    "X_st[:, 2] = standart_scale(X_st[:, 2])\n",
    "X_st"
   ]
  },
  {
   "cell_type": "code",
   "execution_count": 10,
   "metadata": {},
   "outputs": [
    {
     "data": {
      "text/plain": [
       "array([-0.97958969, -0.56713087, -0.46401617, -0.77336028,  0.97958969,\n",
       "       -0.36090146,  1.08270439,  2.11385144, -1.08270439,  0.05155735])"
      ]
     },
     "execution_count": 10,
     "metadata": {},
     "output_type": "execute_result"
    }
   ],
   "source": [
    "X_st[:, 2]"
   ]
  },
  {
   "cell_type": "code",
   "execution_count": 11,
   "metadata": {},
   "outputs": [
    {
     "data": {
      "text/plain": [
       "array([1.00000000e-05, 4.64158883e-04, 2.15443469e-02, 1.00000000e+00])"
      ]
     },
     "execution_count": 11,
     "metadata": {},
     "output_type": "execute_result"
    }
   ],
   "source": [
    "n = 4\n",
    "lambdas = np.logspace(-5, 0, n)\n",
    "lambdas = lambdas.copy().astype(np.float64)\n",
    "lambdas"
   ]
  },
  {
   "cell_type": "code",
   "execution_count": 12,
   "metadata": {},
   "outputs": [],
   "source": [
    "W_1_array = [gradient_descent_reg_l2(X_st[:, 1], y, iterations=5000, eta=1e-4, reg=lamb, x_shape_index=0, log=False) for lamb in lambdas]\n",
    "W_2_array = [gradient_descent_reg_l2(X_st[:, 2], y, iterations=5000, eta=1e-4, reg=lamb, x_shape_index=0, log=False) for lamb in lambdas]\n",
    "W_3_array = [gradient_descent_reg_l2(X_st[:, 3], y, iterations=5000, eta=1e-4, reg=lamb, x_shape_index=0, log=False) for lamb in lambdas]"
   ]
  },
  {
   "cell_type": "code",
   "execution_count": 13,
   "metadata": {},
   "outputs": [
    {
     "data": {
      "text/plain": [
       "[<matplotlib.lines.Line2D at 0x11fded60>,\n",
       " <matplotlib.lines.Line2D at 0x11fded78>,\n",
       " <matplotlib.lines.Line2D at 0x11fdee38>,\n",
       " <matplotlib.lines.Line2D at 0x11fdee98>,\n",
       " <matplotlib.lines.Line2D at 0x11fdeef8>,\n",
       " <matplotlib.lines.Line2D at 0x11fdef58>,\n",
       " <matplotlib.lines.Line2D at 0x11fdefb8>,\n",
       " <matplotlib.lines.Line2D at 0x11fee040>,\n",
       " <matplotlib.lines.Line2D at 0x11fee0a0>,\n",
       " <matplotlib.lines.Line2D at 0x11fee100>]"
      ]
     },
     "execution_count": 13,
     "metadata": {},
     "output_type": "execute_result"
    },
    {
     "data": {
      "image/png": "[encoded data removed]",
      "text/plain": [
       "<Figure size 432x288 with 1 Axes>"
      ]
     },
     "metadata": {
      "needs_background": "light"
     },
     "output_type": "display_data"
    }
   ],
   "source": [
    "plt.plot(lambdas, W_1_array)"
   ]
  },
  {
   "cell_type": "code",
   "execution_count": 14,
   "metadata": {
    "scrolled": true
   },
   "outputs": [
    {
     "data": {
      "text/plain": [
       "[<matplotlib.lines.Line2D at 0x130881a8>,\n",
       " <matplotlib.lines.Line2D at 0x13088220>,\n",
       " <matplotlib.lines.Line2D at 0x13088280>,\n",
       " <matplotlib.lines.Line2D at 0x130882e0>,\n",
       " <matplotlib.lines.Line2D at 0x13088340>,\n",
       " <matplotlib.lines.Line2D at 0x130883a0>,\n",
       " <matplotlib.lines.Line2D at 0x13088400>,\n",
       " <matplotlib.lines.Line2D at 0x13088460>,\n",
       " <matplotlib.lines.Line2D at 0x130884c0>,\n",
       " <matplotlib.lines.Line2D at 0x13088520>]"
      ]
     },
     "execution_count": 14,
     "metadata": {},
     "output_type": "execute_result"
    },
    {
     "data": {
      "image/png": "[encoded data removed]",
      "text/plain": [
       "<Figure size 432x288 with 1 Axes>"
      ]
     },
     "metadata": {
      "needs_background": "light"
     },
     "output_type": "display_data"
    }
   ],
   "source": [
    "plt.plot(lambdas, W_2_array)"
   ]
  },
  {
   "cell_type": "code",
   "execution_count": 15,
   "metadata": {},
   "outputs": [
    {
     "data": {
      "text/plain": [
       "[<matplotlib.lines.Line2D at 0x130c7cd0>,\n",
       " <matplotlib.lines.Line2D at 0x130c7d48>,\n",
       " <matplotlib.lines.Line2D at 0x130c7da8>,\n",
       " <matplotlib.lines.Line2D at 0x130c7e08>,\n",
       " <matplotlib.lines.Line2D at 0x130c7e68>,\n",
       " <matplotlib.lines.Line2D at 0x130c7ec8>,\n",
       " <matplotlib.lines.Line2D at 0x130c7f28>,\n",
       " <matplotlib.lines.Line2D at 0x130c7f88>,\n",
       " <matplotlib.lines.Line2D at 0x130c7fe8>,\n",
       " <matplotlib.lines.Line2D at 0x130d5070>]"
      ]
     },
     "execution_count": 15,
     "metadata": {},
     "output_type": "execute_result"
    },
    {
     "data": {
      "image/png": "[encoded data removed]",
      "text/plain": [
       "<Figure size 432x288 with 1 Axes>"
      ]
     },
     "metadata": {
      "needs_background": "light"
     },
     "output_type": "display_data"
    }
   ],
   "source": [
    "plt.plot(lambdas, W_3_array)"
   ]
  },
  {
   "cell_type": "markdown",
   "metadata": {},
   "source": [
    "При малых lambda веса большие, при больших lambda веса стремятся к нулю"
   ]
  },
  {
   "cell_type": "markdown",
   "metadata": {},
   "source": [
    "## Задание 2"
   ]
  },
  {
   "cell_type": "markdown",
   "metadata": {},
   "source": [
    "Напишите функцию наподобие gradient_descent_reg_l2, но для применения L1-регуляризации."
   ]
  },
  {
   "cell_type": "markdown",
   "metadata": {},
   "source": [
    "Производная $d\\lambda |w| = \\frac{w}{|w|}, w \\neq 0$"
   ]
  },
  {
   "cell_type": "code",
   "execution_count": 16,
   "metadata": {},
   "outputs": [],
   "source": [
    "def gradient_descent_reg_l2(X, y, iterations, eta, reg, x_shape_index=0, log=False):\n",
    "    W = np.random.randn(X.shape[x_shape_index])\n",
    "    n = X.shape[x_shape_index]\n",
    "    \n",
    "    for i in range(0, iterations):\n",
    "        y_pred = np.dot(X, W)\n",
    "        err = calc_mse(y, y_pred)\n",
    "        \n",
    "        dQ = 2/n * X.T @ (y_pred - y) # градиент функции ошибки\n",
    "        dReg = reg * W / np.abs(W) # градиент регуляризации\n",
    "        \n",
    "        W -= eta * dQ + dReg\n",
    "        \n",
    "        if i % (iterations / 10) == 0 and log:\n",
    "            print(f'Iter: {i}, weights: {W}, error {err}')\n",
    "    \n",
    "    if log:\n",
    "        print(f'Final MSE: {calc_mse(y, np.dot(X, W))}')\n",
    "    return W"
   ]
  },
  {
   "cell_type": "code",
   "execution_count": 17,
   "metadata": {},
   "outputs": [
    {
     "data": {
      "text/plain": [
       "array([ 9.59049572, 12.23467593, 11.25010408,  9.75167903, 10.28156468,\n",
       "       10.23228349, 10.50520751,  8.84409717, 11.50776074, 12.32868723])"
      ]
     },
     "execution_count": 17,
     "metadata": {},
     "output_type": "execute_result"
    }
   ],
   "source": [
    "gradient_descent_reg_l2(X_st[:, 1], y, iterations=5000, eta=1e-4, reg=1e-4, x_shape_index=0, log=False)"
   ]
  },
  {
   "cell_type": "markdown",
   "metadata": {},
   "source": [
    "## Задание 3"
   ]
  },
  {
   "cell_type": "markdown",
   "metadata": {},
   "source": [
    "*Можно ли к одному и тому же признаку применить сразу и нормализацию, и стандартизацию?"
   ]
  },
  {
   "cell_type": "markdown",
   "metadata": {},
   "source": [
    "Да, можем. Предполагаю, что из-за свойства матриц сохранять определитель при умножении/делении столбца на одно и то же число, \n",
    "Обе операции сохраняют соотношение между двумя значениями столбца."
   ]
  },
  {
   "cell_type": "markdown",
   "metadata": {},
   "source": [
    "## Задание 4"
   ]
  },
  {
   "cell_type": "markdown",
   "metadata": {},
   "source": [
    "*Сгенерируйте датасет при помощи <code>sklearn.datasets.make_regression</code> и обучите линейную модель при помощи градиентного и стохастического градиентного спуска. Нанесите среднеквадратичную ошибку для обоих методов на один график, сделайте выводы о разнице скорости сходимости каждого из методов."
   ]
  },
  {
   "cell_type": "code",
   "execution_count": 59,
   "metadata": {},
   "outputs": [],
   "source": [
    "from sklearn.datasets import make_regression\n",
    "from matplotlib import pyplot as plt\n",
    "\n",
    "X, Y, coef = make_regression(n_samples=1000, n_features=2, n_informative=2, n_targets=1, \n",
    "                                      noise=5, coef=True, random_state=3)"
   ]
  },
  {
   "cell_type": "code",
   "execution_count": 60,
   "metadata": {
    "scrolled": false
   },
   "outputs": [
    {
     "data": {
      "text/plain": [
       "array([[ 0.59808962, -0.16400084],\n",
       "       [-0.61277018, -0.97358312],\n",
       "       [ 1.04310749, -0.66960072],\n",
       "       ...,\n",
       "       [ 1.22089151, -2.01159456],\n",
       "       [-2.21079164,  0.14181052],\n",
       "       [-0.6387909 , -0.65441521]])"
      ]
     },
     "metadata": {},
     "output_type": "display_data"
    },
    {
     "data": {
      "text/plain": [
       "array([ 2.18002939e+01, -1.29264887e+02, -8.43276087e+00,  1.69905867e+02,\n",
       "        1.34932636e+02, -3.35383428e+01,  9.45677735e+01, -5.43248813e+00,\n",
       "       -2.97081683e+01, -1.71881455e+02, -4.81295141e+00,  1.79865346e+01,\n",
       "        3.09108636e+01, -2.01631274e+01,  1.27694788e+02,  9.20782273e+01,\n",
       "        9.03094898e+01, -9.05676106e+01, -1.39067411e+02, -8.59194598e+01,\n",
       "        1.29584550e+02,  6.65626452e+01,  3.41619343e+01,  1.51864875e+01,\n",
       "       -1.70032387e+02, -1.14705468e+02,  2.09623446e+01,  1.27359186e+02,\n",
       "        1.52259958e+02,  8.89221069e+01,  7.28979898e+01,  6.57444478e+01,\n",
       "        7.56342971e+01,  6.50889164e+01, -6.51067433e+01, -2.31706653e+02,\n",
       "       -3.06575885e+02,  1.21776744e+02,  1.07763814e+01,  7.03212339e+01,\n",
       "       -2.82743354e+01,  1.44732917e+02, -1.25873487e+02,  3.93684880e+02,\n",
       "        5.92817208e+01,  2.24936199e+02, -1.62667908e+02,  6.80326955e+01,\n",
       "       -1.46023736e+02,  2.49756800e+01, -5.40719136e+01,  8.02075171e+01,\n",
       "        6.37027603e+01, -1.15630367e+02,  1.54391062e+02,  1.77757283e+02,\n",
       "        3.38430425e+01,  1.07931023e+02,  1.72703690e+02,  1.54852257e+02,\n",
       "       -5.43617119e+01,  8.40828717e+01, -8.53913670e+01, -9.00068177e+01,\n",
       "       -2.40564549e+01,  3.12722721e+02, -1.87434538e+01, -1.27865763e+02,\n",
       "        3.21150394e+01,  3.17343591e+01,  7.97550285e+01, -6.96879477e+01,\n",
       "        2.11703008e+02,  9.59403030e+01, -2.03774671e+02,  3.01115665e+01,\n",
       "       -9.33480887e+01,  9.46024285e+01,  9.47589003e+01, -1.24576027e+01,\n",
       "       -1.85170894e+02,  7.34534471e+01, -7.65768786e+01, -5.33580512e+01,\n",
       "       -6.38454217e+01,  6.33800381e+01, -3.61662691e+01, -1.46689197e+02,\n",
       "       -1.30664608e+00,  5.54890213e+01,  2.33371977e+02, -1.32498273e+02,\n",
       "        5.48497883e+01,  4.47115713e+01, -1.26686896e+02,  8.25376649e+01,\n",
       "        2.20386599e+02,  1.19642427e+02, -9.58726350e+01, -1.45321777e+02,\n",
       "       -6.28249580e+01, -1.81718254e+02,  1.16540829e+02,  6.13185936e+01,\n",
       "        7.89836618e+01, -1.23357566e+01, -1.37063057e+02, -5.12008923e+01,\n",
       "       -4.31286184e+01, -3.13491457e+00, -7.24803178e+01, -1.65903060e+02,\n",
       "       -2.58818619e+02,  2.54401007e+01,  4.29900352e+01, -1.92636291e+00,\n",
       "       -2.06111105e+02,  3.52968702e+01,  2.16437439e+02,  2.29746057e+01,\n",
       "        7.26157079e+01,  4.08477007e-01, -4.17615989e+01, -1.59667290e+02,\n",
       "       -2.06204073e+02, -1.79914229e+02, -7.51844668e+01, -2.78270048e+02,\n",
       "        3.24692239e-01,  9.46911799e+01,  1.06842159e+02,  7.57446413e+01,\n",
       "        2.41639015e+01, -4.13650729e+01, -7.78813654e+01,  7.80854843e+01,\n",
       "       -5.28914411e+01, -9.58875276e+01,  9.22118601e+01, -4.20787516e+01,\n",
       "        1.22926104e+02,  3.32685992e+01,  7.46141383e+01,  6.95466695e+01,\n",
       "       -1.62753438e+01, -9.20281958e+01,  1.75649037e+01, -1.01115200e+02,\n",
       "       -1.67738498e+02, -3.56117973e+01, -3.58771916e+01,  2.22627609e+01,\n",
       "       -1.26345917e+02, -1.81516824e+02,  2.92771143e+01, -1.42701331e+02,\n",
       "        6.47094905e+01,  2.04954679e+01, -1.31269939e+02,  4.93177790e+01,\n",
       "        1.03307591e+02,  1.04890552e+01, -5.77727711e+01,  5.54706395e+01,\n",
       "        4.58192681e+01,  5.02206003e+01, -1.42463784e+02, -7.07633990e+01,\n",
       "        1.17039163e+02, -4.92626288e+01, -4.79807711e+01,  2.44472583e+02,\n",
       "       -4.40370553e+01,  5.62029672e+01,  1.77080652e+02, -2.47341737e+02,\n",
       "        8.75996122e+01,  2.29829984e+01, -1.28446104e+02,  2.61419568e+00,\n",
       "       -1.30613627e+02,  3.12978080e+01,  2.01023219e+00, -1.80793051e+02,\n",
       "       -1.79897880e+02, -1.98987704e+02, -5.04454607e+01, -3.38575826e+00,\n",
       "        5.74637981e+01,  5.03726542e+00,  5.45139656e+01, -7.65412750e+01,\n",
       "       -6.73570054e+01,  1.39380728e+02,  2.17687763e+01,  1.02458898e+02,\n",
       "       -1.92971127e+02,  4.74568525e+01,  6.11369929e+01, -1.46930467e+02,\n",
       "       -1.93958635e+02, -1.12026404e+02,  4.54428217e+01, -1.04963683e+02,\n",
       "        1.04710895e+02, -8.48864986e+01, -2.10432382e+01,  2.23945921e+02,\n",
       "        1.51122371e+02,  1.30168358e+02,  1.79829380e+02, -5.06734858e+01,\n",
       "       -3.07587653e+02,  2.20324275e+02,  1.00134232e+02,  1.22087379e+02,\n",
       "        6.96300161e+01, -2.99645046e+01, -2.58172959e+00, -2.21513391e+02,\n",
       "        3.01188433e+01,  1.56300335e+01,  1.07444718e+02, -2.57498293e+02,\n",
       "        2.54690198e+01,  1.73089371e+02, -1.65608487e+00,  2.07677965e+01,\n",
       "       -1.13232683e+02, -1.30063832e+02, -7.09786678e+01,  3.82377288e+01,\n",
       "        1.61796206e+02,  4.07164392e+01, -2.31136484e+01,  6.49988255e+01,\n",
       "        6.37653243e+01,  2.00830203e+02,  1.22859649e+02, -2.15484575e+02,\n",
       "        9.23985373e+01,  2.37394037e+00, -3.39193453e+01,  6.05629658e+01,\n",
       "        3.83591170e+01,  9.84647799e+01,  1.64672987e+01,  8.61834411e+01,\n",
       "        6.78873844e+01,  7.55933477e+01, -2.77259111e+02, -5.06431648e+01,\n",
       "       -1.66891813e+02,  3.75873394e+01, -2.21692765e+02, -1.11235246e+02,\n",
       "       -1.32112512e+02,  6.76091016e+01, -6.43912345e+01, -4.89201340e+01,\n",
       "        1.36747341e+02, -7.61411918e+00, -8.46814456e+01, -1.07392883e+02,\n",
       "        1.65795578e+02, -2.38064733e+00,  1.68916271e+01,  1.35139240e+02,\n",
       "        2.98674901e+02, -1.82970993e+01,  5.61013031e+01, -5.68175979e+01,\n",
       "       -9.47912798e+01, -5.17142784e+01, -2.61418880e+00,  1.80430852e+01,\n",
       "       -2.54592427e+02,  1.52467723e+02, -8.64718984e+01, -1.83858532e+02,\n",
       "       -5.09975912e+00, -1.23227138e+02, -7.74601850e+01, -1.04412374e+02,\n",
       "        8.28460421e+01, -3.88137093e+01, -5.47816825e+01,  1.43840126e+01,\n",
       "       -3.48730180e+01, -1.99666648e+02, -3.44411652e+02, -7.90223193e+01,\n",
       "       -8.27211813e+01, -5.68802155e+01,  2.29428906e+01, -5.51322424e+01,\n",
       "       -1.22483848e+02,  1.63205102e+02,  7.82864474e+01,  4.26737856e+01,\n",
       "        7.27419402e+01,  6.45867758e+01, -1.60355529e+01,  1.10893754e+01,\n",
       "       -3.74287475e+00, -2.87968747e+01, -9.01861135e+01,  6.42853480e+00,\n",
       "       -4.64390014e+01, -2.02878428e+01, -1.90793794e+02,  2.65929512e+01,\n",
       "       -1.12250664e+02,  1.22549324e+02,  9.94600840e+01, -1.06881336e+02,\n",
       "        1.22444543e+02,  1.19989301e+02,  4.22172776e+01,  7.76898255e+01,\n",
       "        6.39023481e+01,  7.02672517e+01,  1.05375079e+02, -9.41821171e+01,\n",
       "       -6.11861680e+01,  5.86605430e+01,  4.79311017e+01,  2.33052402e+02,\n",
       "        1.38803759e+01, -7.75517477e+01, -1.72630681e+01,  1.51427592e+02,\n",
       "        1.13624891e+01,  3.33193247e+01, -3.84083664e+01,  1.04609480e+02,\n",
       "       -3.76963828e+01, -6.36475950e+00,  2.16739625e+02,  1.87186256e+01,\n",
       "       -8.93445852e+01,  3.35453566e+01, -9.84552029e+01, -2.40256913e+01,\n",
       "        1.09871798e+01,  3.29479901e+02, -2.26092562e+01,  7.34885431e+01,\n",
       "       -6.85089463e+00, -1.14905521e+01,  1.67544197e+02, -7.32336260e+01,\n",
       "        9.76437793e+00, -5.69770089e+01,  1.14066252e+02,  1.57407744e+02,\n",
       "        9.86487769e+01,  3.86197844e+02,  1.33850255e+02, -1.11698485e+02,\n",
       "       -1.11742633e+01,  5.50929254e+00, -5.80346598e+01,  9.21644466e+01,\n",
       "        9.34826739e+01, -3.67039779e+01,  2.05498517e+01,  3.25533877e+01,\n",
       "        1.14343059e+02,  3.59740545e+01, -2.41311577e+02,  8.50321290e+01,\n",
       "       -2.31561660e+02,  6.00971402e+01,  7.20531926e+01, -1.58024630e+02,\n",
       "       -9.79554301e+01, -1.43678032e+02, -6.94803232e+01,  1.19467820e+02,\n",
       "        9.16591919e+00, -6.80994430e+01,  5.32005906e+01,  8.28437693e+01,\n",
       "        9.71772804e+01,  4.38262704e+01,  5.11561235e+01,  1.37005279e+01,\n",
       "        6.25261098e+01,  2.41846794e+01,  2.97575087e+02,  1.94813222e+01,\n",
       "       -5.42916374e+01,  6.06904567e+01,  9.28278284e+01,  6.15708475e+01,\n",
       "       -6.81626713e+01,  1.95008707e+01,  4.91576712e+01, -4.95583867e+01,\n",
       "       -2.54604462e+01, -7.14708615e+01, -7.40498548e+01,  5.24756869e+01,\n",
       "       -5.82162736e+00,  1.18665511e+02, -1.43329326e+01,  1.92075432e+02,\n",
       "       -5.17278154e+00,  6.54677712e+01,  1.03142416e+02, -7.60401864e+01,\n",
       "       -1.64803576e+02, -3.90402887e+01, -6.33049084e+01, -1.24515212e+02,\n",
       "       -1.36752341e+02,  2.37305883e+01,  6.39162965e+01, -1.56852973e+01,\n",
       "        3.73659449e+01, -2.18973008e+01, -4.75712548e+01, -5.78007495e+01,\n",
       "        6.67694018e+01, -9.48910449e+01, -1.58895890e+02, -4.65930522e+01,\n",
       "        4.11055988e+01,  8.21098433e+01,  1.03957178e+01, -7.35759796e+01,\n",
       "       -6.34099444e+01, -1.55785028e+01, -8.60432464e+00,  6.01226412e+01,\n",
       "       -3.38177282e+01,  2.80907993e+01, -8.19448595e+00,  1.39416060e+02,\n",
       "        1.83811353e+02,  2.34498984e+01,  1.03584851e+02,  2.33255655e+01,\n",
       "        7.32120294e+01, -4.47941719e+01, -1.11117939e+02,  1.74896287e+02,\n",
       "       -4.87428918e+01, -3.77021875e+01,  5.14859957e+01, -5.75661348e+01,\n",
       "       -8.35982632e+01, -1.85375743e+00, -1.59876400e+02,  2.42571963e+01,\n",
       "        1.92494241e+02, -6.20692165e+00,  3.59034243e+01, -1.67720403e+02,\n",
       "       -1.26984286e+01, -9.78077412e+00,  8.33376292e+01, -1.18451098e+01,\n",
       "        1.75030625e+02,  8.08322052e+01,  2.46676442e+02, -8.71829448e+01,\n",
       "       -2.33328488e+02,  1.36768695e+02,  1.53957476e+02, -6.43960295e+01,\n",
       "       -2.62306065e+01, -5.48979096e+01,  1.64341775e+02, -6.32385934e+01,\n",
       "       -5.87309584e+01, -6.10283617e+01,  1.72419367e+02,  1.30371056e+00,\n",
       "       -8.20579014e+01,  4.00818927e+01, -2.00187642e+02,  1.51984338e+01,\n",
       "       -7.41459894e+01, -7.01038562e+01,  4.31895765e+01, -5.85957131e+01,\n",
       "        1.22769535e+02,  1.34810735e+01,  9.97269231e+01,  1.71727834e+02,\n",
       "       -3.16086609e+01,  7.39527672e+01, -3.29256712e+01, -1.77531320e+02,\n",
       "       -1.98839763e+01, -7.47323677e+01,  5.83546764e+01, -1.89621582e+01,\n",
       "       -7.06171207e+01, -4.11159924e+01, -6.12134150e+01,  9.30916000e+01,\n",
       "       -2.13193539e+02, -5.05490388e+01, -6.30254571e+01,  1.39002147e+02,\n",
       "       -4.30822999e+01, -1.97877559e+02,  6.90714454e+01,  1.72327431e+02,\n",
       "       -3.56076157e+01,  6.46956174e+00, -1.79502602e+01, -2.95129397e+00,\n",
       "        2.25373573e+02, -9.48651576e+01,  8.41218088e+01,  4.71540344e+01,\n",
       "       -6.56161648e+01,  3.86835750e+00,  1.74060891e+02,  4.13498038e+01,\n",
       "       -9.30219558e+01, -3.19868381e+01,  8.59397213e-01, -7.06256331e+01,\n",
       "       -3.16397919e+01, -2.46495808e+01, -4.22621496e+01,  2.74122128e+01,\n",
       "        4.17715031e+01,  3.23802413e+01, -5.07387310e+01, -3.38611310e+01,\n",
       "        6.65040889e+01,  8.36685397e+01, -1.42356108e+01, -1.28303839e+02,\n",
       "        1.38098209e+02, -1.09979735e+02,  3.06725658e+01,  4.37772418e+01,\n",
       "       -8.38068288e+01,  1.02820110e+02,  2.36130178e+02,  1.95846503e+01,\n",
       "       -2.48874798e+02, -8.06771954e+01, -1.28825467e+02,  8.23576896e+01,\n",
       "       -4.34741842e-01, -1.51751153e+02,  6.12726841e+01,  4.40358881e+01,\n",
       "       -2.45499577e+02, -2.37958621e+02,  4.38020765e+01,  3.89028752e+01,\n",
       "       -9.15663892e+01, -1.18016503e+02, -5.92254111e+01,  1.00095049e+02,\n",
       "        5.25006752e+01, -6.06359641e+01, -1.28613212e+02,  7.94368563e+01,\n",
       "       -7.81898703e+00, -3.71919056e+01, -1.78595752e+02, -3.93004494e+01,\n",
       "        4.76905028e+01, -1.67461877e+01,  1.26098424e+01,  1.98458223e+01,\n",
       "       -1.40053909e+01,  4.19849005e+00, -2.51643311e+01, -5.34822410e+01,\n",
       "        1.13337529e+02, -8.52427040e+01,  2.65871065e+01,  1.54200656e+02,\n",
       "        1.46451899e+02, -4.36315485e+00,  1.96973021e+02,  2.63751992e+01,\n",
       "        8.04380912e+01, -2.01050179e+02,  5.72135586e+01,  2.87578299e+00,\n",
       "       -5.94687237e+01, -9.24155263e+01,  1.18592007e+01, -2.08928362e+01,\n",
       "        4.18391172e+01, -3.20326369e+01,  1.66745175e+02, -5.72994726e+01,\n",
       "        9.12031805e+01,  7.19642344e+01, -7.12502614e+00,  3.93994231e+01,\n",
       "       -2.47163651e+01, -6.62000383e+01, -1.95077250e+02,  6.57177190e+00,\n",
       "       -2.76159853e+01, -1.08737027e+02, -9.45604561e+01, -1.16414477e+01,\n",
       "       -2.05648940e+01,  9.89957101e+00,  4.76851520e+01,  4.62369224e+00,\n",
       "        5.69192863e+01, -8.23186070e+01,  3.08982638e+01, -1.26020087e+02,\n",
       "       -2.14619532e+02, -3.61043780e+01, -7.12882082e+01,  1.16337587e+02,\n",
       "        3.09521920e+01,  8.31794140e+01,  4.48614736e+01, -1.14635697e+02,\n",
       "        6.04363019e+01,  8.52525047e+01,  5.15838365e+01, -8.89292398e+01,\n",
       "        1.60235899e+02,  1.88568641e+01, -1.41424739e+02,  4.30555366e+01,\n",
       "        1.57469815e+02, -1.62568939e+02,  4.34143802e+01, -4.98166928e+01,\n",
       "       -1.33057373e+02,  4.39142067e+01,  3.12498252e+01, -2.14106055e+02,\n",
       "        1.07662558e+02, -6.78082598e+01, -4.82890438e+01,  1.28428310e+02,\n",
       "        1.11834837e+00,  1.64525217e-01, -6.85728275e+01, -1.96853947e+02,\n",
       "       -1.24719137e+02,  1.56345654e+02,  7.64236832e+01,  3.94835904e+01,\n",
       "       -3.75811756e+01,  1.84800813e+02, -9.67992503e+00, -1.10157276e+02,\n",
       "       -4.89356880e+01, -1.00720399e+01, -7.97452275e+01, -7.52114105e+01,\n",
       "       -6.61504541e+01,  3.49094430e+01,  8.09067180e+01,  4.70272307e+01,\n",
       "       -1.73425202e+02,  8.33655502e+01,  1.04695581e+02, -9.33546968e+01,\n",
       "        1.51209119e+02, -1.76790492e+02, -4.08635518e+01,  3.20715305e+01,\n",
       "       -3.80596188e+01, -2.05919765e+02,  5.19861654e+01, -2.14465625e+02,\n",
       "       -1.64153538e+02,  2.38540116e+02,  9.58721655e+00, -4.10659216e+01,\n",
       "       -3.29283268e+01, -6.69307945e+01,  8.98057590e+01, -1.50535358e+02,\n",
       "       -1.36103746e+02,  9.02826101e+01, -4.22450060e+00,  1.36365299e+02,\n",
       "        7.89910163e+01,  1.74322149e+02,  3.71024376e+01, -3.97970478e+01,\n",
       "        6.51720834e+01,  1.55184777e+01, -2.19781498e+02, -1.96059823e+02,\n",
       "       -1.60712408e+02, -1.08409327e+01, -7.62274733e+01, -3.28161964e+01,\n",
       "       -1.86894371e+02,  4.11831925e+01, -1.04618070e+02, -1.49641740e+02,\n",
       "        4.39108372e+01,  9.96730155e+01, -6.81201982e+01, -4.28904605e+00,\n",
       "       -8.86641660e+01, -2.20934283e+02, -1.55510062e+02,  4.17035469e+01,\n",
       "       -4.41316285e+01, -1.15893546e+02, -3.58038283e+01, -2.58154774e+01,\n",
       "        7.69987269e+01,  5.19114328e+01,  2.32335024e+02, -9.77691734e+01,\n",
       "       -9.89127170e+01, -1.17603901e+02, -7.96885429e+01, -5.92093756e+01,\n",
       "       -1.20612634e+02,  4.17849715e+01, -1.45386236e+01,  6.19621080e+01,\n",
       "        1.55940217e+02, -6.05406034e+01, -4.05847528e+01, -2.61237577e+00,\n",
       "       -1.68966085e+02,  6.38983157e+01, -9.99261839e+01, -4.42427327e+01,\n",
       "       -1.06484715e+02, -3.20768541e+01, -2.96134576e+01, -9.01627909e+01,\n",
       "        9.19910477e+01,  1.02666086e+02, -1.26669230e+02, -8.63846861e+01,\n",
       "        1.07963537e+02,  3.92787784e+01,  1.59479115e+02,  1.67464200e+01,\n",
       "        1.00908406e+01, -7.79696866e+01,  3.84273165e+01, -2.82976486e+02,\n",
       "       -1.15306444e+02,  6.01717438e+01,  1.48030911e+02, -3.21214945e+01,\n",
       "        3.54726116e+01,  1.08016980e+02,  1.70284938e+02, -1.01623587e+02,\n",
       "       -8.04457823e+01, -1.50515650e+02, -5.32845322e+01, -1.39485541e+02,\n",
       "        1.77893309e+01, -1.36908247e+02, -8.37803923e+00,  1.66349906e+02,\n",
       "       -8.58476675e+01,  3.48178487e+01, -9.40412443e+00,  9.48770846e+01,\n",
       "       -5.92703077e+01,  1.12819237e+02, -1.29474149e+02,  1.44627132e+02,\n",
       "       -3.30067657e+01, -2.06297805e+01,  7.89997483e+01, -9.05714104e+01,\n",
       "       -2.22980952e+02, -8.07811430e+01,  1.38144923e+02, -2.34694315e+02,\n",
       "       -2.36957019e+01, -9.97275918e+01,  5.31139335e+00, -1.66834511e+02,\n",
       "        1.94861071e+02, -7.81787081e+01, -7.22260540e+01, -1.28041173e+02,\n",
       "       -2.10281617e+02, -8.21322937e+00,  4.79595108e+01, -3.88886915e+01,\n",
       "        2.01201562e+02, -1.71812678e+02,  3.30884481e+01, -1.27807893e+01,\n",
       "       -1.76141780e+02, -5.76231680e+01,  1.70334435e+02, -1.26234336e+02,\n",
       "       -3.01259274e+01, -7.26650466e+01,  8.16020449e+01,  1.98221752e+02,\n",
       "        3.14335362e+01, -7.44384950e+01,  9.59769670e+01, -7.23970461e+01,\n",
       "        1.08378211e-01,  6.64698701e+01, -1.24395126e+02, -2.02260194e+02,\n",
       "       -2.46051268e+01, -5.58665209e+01,  8.85065716e+01,  3.31180394e+01,\n",
       "       -3.89845985e+01, -2.45136192e+01, -3.68072620e+01,  6.87676042e+01,\n",
       "       -1.71568075e+02,  9.14298877e+01,  2.41713200e+01, -1.14446003e+02,\n",
       "       -8.09356573e+01,  5.99900557e-01, -2.55660004e+01, -3.48305774e+01,\n",
       "        4.26380199e+01,  1.62310742e+02, -5.04708618e+01,  1.53351420e+02,\n",
       "       -2.18453979e+02,  1.69050738e+02, -1.24401450e+01,  2.18059895e+02,\n",
       "        1.75100233e+02, -1.25447193e+02, -3.33625872e+01, -1.32861913e+02,\n",
       "       -7.02680699e+01, -7.13111417e+01,  2.46448269e+01,  8.64841710e+01,\n",
       "        9.40026171e+01,  2.20830153e+01,  5.73022208e+01, -1.63837107e+01,\n",
       "       -1.37121459e+02, -4.01784923e+00, -1.94476562e+02,  2.21782720e+02,\n",
       "        1.98906140e+02, -1.50677079e+02, -2.62249620e+01,  6.05320377e+01,\n",
       "       -2.56350670e+01,  5.50883553e+01,  1.20505794e+02, -2.20343043e+02,\n",
       "        2.55992328e+01, -2.29596435e+01, -8.97189158e+01, -2.34569739e+01,\n",
       "       -1.88516010e+02,  3.67407119e+01, -1.19566120e+02,  1.33957725e+02,\n",
       "        1.54886846e+02,  2.46109476e+01,  1.15730850e+02,  7.16455182e+01,\n",
       "        1.61292423e+02,  5.36866934e+01, -1.99140114e+01, -7.79277988e+01,\n",
       "       -8.01782229e+01,  7.05070370e+01, -2.50606390e+02, -5.04987069e+01,\n",
       "        8.02303356e+00, -1.65940024e+02, -5.39063435e+01,  7.01223382e+01,\n",
       "        5.30025924e+00,  9.29357391e+01, -5.09198341e+01, -9.96369366e+01,\n",
       "        1.05201576e+02,  1.19183590e+02,  3.84971606e+01,  1.06155434e+02,\n",
       "       -9.86298160e+01,  2.04716454e+02, -1.22662861e+02,  1.43112265e+02,\n",
       "        4.73215767e+00, -1.79480631e+02, -2.82070713e+01,  1.83033132e+02,\n",
       "       -1.89577803e+01, -9.81666825e+01,  1.73863477e+02,  1.09100872e+02,\n",
       "       -4.05633928e+00,  9.89781882e+01,  9.84469011e+01, -3.18373476e+01,\n",
       "       -7.74964095e+01,  5.19869508e+01, -2.27629040e+01, -3.74087579e+01,\n",
       "        8.64229427e+01, -1.79312144e+01,  4.92433538e+01, -1.13937227e+02,\n",
       "        1.56485133e+02,  2.28009406e+01, -4.22495514e+01, -6.82358331e+01,\n",
       "       -8.46641067e+01, -1.01194292e+02,  1.77432428e+02,  3.91780029e+01,\n",
       "       -1.03296763e+02,  1.10101494e+02, -1.39888891e+02,  9.46217611e+01,\n",
       "        1.36243035e+02,  1.19298756e+02, -3.43600256e+01,  1.90033539e+02,\n",
       "        1.85577126e+01,  7.70802129e+01,  1.70342380e+02,  8.77298051e+01,\n",
       "       -1.36998372e+02, -5.32619728e+01,  1.40700003e+02,  2.97195335e+02,\n",
       "        8.50045800e+01,  6.47261821e+01, -8.15568953e+01,  2.53995064e+02,\n",
       "       -1.76751073e+02,  1.40742952e+02, -1.16053306e+02, -9.30456099e+01,\n",
       "        4.38666180e+01,  8.55661575e+00, -1.77462901e+02, -1.25992838e+02,\n",
       "       -8.03987765e+01, -6.66701248e+01, -3.49410861e+01,  1.06843483e+02,\n",
       "        5.67312177e+01,  8.03077191e+00,  1.12049600e+02, -1.66514256e+02,\n",
       "       -8.01977015e+01, -1.37073320e+02, -6.11526277e+01,  1.97821091e+02,\n",
       "       -8.88082796e+01,  2.26225950e+02, -4.39331855e+01,  5.92480347e+01,\n",
       "        1.76165222e+01, -6.34430502e+01,  2.03786823e+02,  1.05395899e+02,\n",
       "        2.15194896e+02,  1.35992998e+02, -8.15957643e-02, -7.59396494e+00,\n",
       "        9.79699792e+01, -3.08934004e+01, -1.52618592e+02,  5.17356391e+01,\n",
       "       -5.50884630e+00,  8.85259891e+01,  9.73458342e+01,  1.97487998e+02,\n",
       "       -1.27841163e+02, -1.77668779e+02,  3.61975791e+01,  6.14970525e+01,\n",
       "       -1.59407642e+02, -1.17568945e+02, -1.12994012e+02, -8.64692283e+01])"
      ]
     },
     "metadata": {},
     "output_type": "display_data"
    },
    {
     "data": {
      "text/plain": [
       "array([55.20684117, 92.8290393 ])"
      ]
     },
     "metadata": {},
     "output_type": "display_data"
    }
   ],
   "source": [
    "display(X, Y, coef)"
   ]
  },
  {
   "cell_type": "code",
   "execution_count": 61,
   "metadata": {
    "scrolled": false
   },
   "outputs": [
    {
     "data": {
      "text/plain": [
       "array([-0.07987856,  0.0204605 ])"
      ]
     },
     "metadata": {},
     "output_type": "display_data"
    },
    {
     "data": {
      "text/plain": [
       "array([0.99326927, 1.02608335])"
      ]
     },
     "metadata": {},
     "output_type": "display_data"
    }
   ],
   "source": [
    "# Получим средние значения и стандартное отклонение по столбцам\n",
    "\n",
    "means = np.mean(X, axis=0)\n",
    "stds = np.std(X, axis=0)\n",
    "# параметр axis указывается для вычисления значений по столбцам, а не по всему массиву\n",
    "display(means, stds)"
   ]
  },
  {
   "cell_type": "code",
   "execution_count": 62,
   "metadata": {},
   "outputs": [],
   "source": [
    "W = gradient_descent_reg_l2(X[:, 1], Y, iterations=5000, eta=1e-4, reg=1e-5, x_shape_index=0, log=False) "
   ]
  },
  {
   "cell_type": "code",
   "execution_count": 63,
   "metadata": {},
   "outputs": [
    {
     "data": {
      "text/plain": [
       "array([80.89528415, 78.93733395, 82.81182946, 80.41527041, 81.09550209,\n",
       "       78.81893312, 79.16834436, 81.55432275, 78.61597837, 78.56967027,\n",
       "       78.50984737, 79.48714232, 80.52254011, 80.22413113, 81.01898159,\n",
       "       79.23613472, 77.67453977, 81.157178  , 80.35847877, 79.57703621,\n",
       "       77.99048041, 79.48508397, 79.79750741, 79.68982611, 81.05956315,\n",
       "       78.87303306, 80.28737417, 79.95295944, 79.70332693, 79.87397083,\n",
       "       80.05320339, 79.43699112, 81.03592222, 81.13264124, 81.80308045,\n",
       "       80.1891552 , 80.02927955, 79.25276654, 79.34110446, 80.01224912,\n",
       "       79.32914815, 81.07437603, 79.12138603, 80.27386067, 80.22932555,\n",
       "       79.14099614, 79.0909158 , 78.56101955, 77.71961367, 78.51230359,\n",
       "       80.63822283, 80.00943943, 79.23499062, 81.03387744, 80.31037919,\n",
       "       79.56189484, 79.98243789, 78.9154905 , 78.93895468, 78.47247472,\n",
       "       80.45623368, 80.22295216, 80.0536685 , 79.66092474, 80.41117959,\n",
       "       79.86247147, 79.20409806, 81.34884764, 81.60540612, 79.01727105,\n",
       "       80.09558135, 80.34988324, 80.16724312, 80.94409582, 78.61933985,\n",
       "       79.31121254, 80.53828522, 78.11610606, 80.97760459, 79.76491021,\n",
       "       79.04525839, 77.28187601, 80.22031411, 78.26722857, 79.52912649,\n",
       "       78.77818122, 78.61166426, 80.73559883, 80.43360142, 80.49714396,\n",
       "       79.9770721 , 80.0542091 , 80.54807853, 81.05133759, 82.60831605,\n",
       "       78.25081519, 82.44447452, 78.2932764 , 81.04975305, 79.06170779,\n",
       "       80.27108977, 77.36937883, 81.25442341, 79.96051818, 79.59086944,\n",
       "       80.30338464, 79.74573013, 81.0159619 , 79.99857752, 78.76876049,\n",
       "       79.92629772, 80.11272023, 79.32114022, 81.36600475, 80.44779468,\n",
       "       80.53242618, 78.72331554, 78.06038532, 79.56866718, 79.07148223,\n",
       "       78.65614795, 79.63414005, 81.63268689, 80.94328118, 79.99755773,\n",
       "       80.88772724, 79.0839466 , 80.39990881, 79.40613549, 78.9760093 ,\n",
       "       80.51198662, 80.58234115, 79.9706891 , 80.74990195, 78.63388966,\n",
       "       80.60950222, 79.54457996, 79.98525732, 79.36914712, 78.34896031,\n",
       "       80.2798274 , 78.82919329, 80.42929353, 78.70537438, 81.41715548,\n",
       "       81.10803433, 79.62488529, 81.78607309, 79.19335268, 81.36600151,\n",
       "       79.07357531, 80.22814192, 80.12502062, 79.69031275, 79.48223475,\n",
       "       80.39932021, 79.91225763, 80.91096607, 78.8076367 , 81.18476601,\n",
       "       81.15466738, 79.48118992, 80.94115387, 78.88974324, 79.77228814,\n",
       "       79.57882132, 80.1759702 , 80.46603088, 80.60939275, 80.31879714,\n",
       "       79.36826654, 80.26076508, 80.02710866, 80.4824413 , 80.1857005 ,\n",
       "       79.56071434, 80.27685087, 78.79544738, 81.57807337, 81.11144111,\n",
       "       80.77326249, 80.65148953, 79.39949116, 81.29640022, 80.26832119,\n",
       "       78.66041146, 79.81404222, 79.61185075, 81.6472019 , 81.20365301,\n",
       "       80.85332621, 81.67203833, 79.91224972, 79.10436536, 79.60312161,\n",
       "       78.4662042 , 79.3558133 , 79.58727999, 80.93057261, 81.38927054,\n",
       "       81.35574528, 78.37666209, 79.30202044, 79.35500672, 78.80500809,\n",
       "       79.67191637, 80.21169236, 78.77034357, 80.2518523 , 82.59435706,\n",
       "       79.18186548, 78.9361532 , 82.06452976, 80.12481665, 79.30943405,\n",
       "       78.60528109, 79.48393559, 81.02710475, 78.9185369 , 80.21850955,\n",
       "       78.3511793 , 80.0288285 , 79.46095051, 80.16347461, 81.69070749,\n",
       "       80.61910062, 80.57353319, 79.82930342, 80.98247667, 81.45997825,\n",
       "       78.50132831, 79.94798698, 79.6264514 , 78.11464231, 80.87578722,\n",
       "       80.25198311, 78.97014079, 81.21537025, 78.4768072 , 80.05859445,\n",
       "       79.69802197, 80.95873785, 80.97343718, 78.00026848, 79.44496029,\n",
       "       79.95713465, 81.85345013, 79.66202287, 79.64490434, 80.30358555,\n",
       "       80.47383904, 78.53376002, 79.48753891, 80.19899971, 79.23387649,\n",
       "       78.58535873, 77.91900218, 80.88302436, 79.45872854, 81.15908385,\n",
       "       79.36845111, 79.92302456, 79.82495757, 79.72499346, 79.78440888,\n",
       "       79.26951034, 79.2319103 , 79.67662955, 80.02040381, 80.70794442,\n",
       "       79.81400051, 80.78004578, 80.31800699, 81.7046574 , 80.0992508 ,\n",
       "       79.01436373, 80.54658457, 80.01345547, 80.60977663, 80.17347006,\n",
       "       79.41139454, 78.49281281, 79.45440779, 81.24792716, 81.04263604,\n",
       "       81.00574679, 80.49026048, 79.16846885, 80.77874172, 79.67457688,\n",
       "       79.57574226, 79.0085579 , 79.91665713, 79.82470988, 79.51255995,\n",
       "       81.15203983, 80.0756994 , 79.51021789, 79.46090121, 78.91298146,\n",
       "       80.85506725, 79.62101898, 80.93106963, 80.85038749, 81.61335312,\n",
       "       79.14754691, 79.38159557, 81.36202857, 81.16381919, 79.11790649,\n",
       "       80.50027014, 80.41187352, 78.35225867, 79.22573769, 80.91605447,\n",
       "       81.2344971 , 79.65578501, 79.08830806, 80.61986134, 78.83283001,\n",
       "       78.96002545, 80.80974004, 78.06228479, 80.79905202, 79.84149434,\n",
       "       81.39782408, 79.92363333, 79.97911605, 80.38088991, 80.26043445,\n",
       "       79.31170768, 81.3384157 , 80.07779275, 81.61630354, 80.65806717,\n",
       "       79.71891272, 80.09496406, 80.80065379, 80.13833118, 79.05061201,\n",
       "       81.19085941, 79.94694047, 79.37753798, 78.65621839, 80.54218063,\n",
       "       79.45898303, 80.7418658 , 80.63395397, 78.68542912, 81.58270968,\n",
       "       80.78431676, 77.67285091, 80.35992136, 79.45319968, 80.76102755,\n",
       "       79.93460387, 79.03458512, 80.42471452, 79.32221968, 79.52781143,\n",
       "       79.22129187, 78.48615968, 78.58576875, 81.28741168, 79.95170247,\n",
       "       80.15269957, 80.55820062, 78.20921506, 79.5471517 , 79.24584154,\n",
       "       79.33201186, 78.78437106, 79.34836747, 80.91283685, 78.58588574,\n",
       "       79.12219578, 78.55312029, 80.52389987, 79.07670588, 81.08962846,\n",
       "       80.17679217, 79.36179306, 79.40455577, 78.86324188, 80.00672768,\n",
       "       80.79568018, 80.74084157, 79.09422913, 80.16127407, 79.05504156,\n",
       "       79.51341011, 79.39035872, 79.44837768, 79.4539027 , 78.99869278,\n",
       "       82.22497793, 77.66118312, 79.61414587, 78.21301178, 80.52461638,\n",
       "       78.89960105, 80.72650521, 79.34201709, 80.22609241, 78.82537502,\n",
       "       80.4147526 , 78.97633507, 81.71437649, 80.79664985, 78.99296652,\n",
       "       80.29213396, 81.97303707, 79.15458874, 80.03626476, 78.88994581,\n",
       "       79.57475014, 79.73923257, 81.55730321, 79.28218288, 80.72867254,\n",
       "       82.63327353, 78.80570675, 79.58624141, 78.8071235 , 79.35166681,\n",
       "       79.61261742, 81.07946431, 78.21394358, 80.3702326 , 80.76533263,\n",
       "       79.93202648, 79.56769574, 79.77851001, 80.73678831, 80.68780419,\n",
       "       80.43541576, 78.62739989, 81.13486969, 79.26839367, 80.35945721,\n",
       "       76.96042799, 78.93268381, 80.15470134, 78.85179321, 80.6234541 ,\n",
       "       79.23184575, 79.5516833 , 80.88497289, 81.10041665, 80.96644876,\n",
       "       82.02348328, 79.15878416, 78.80928238, 79.61585108, 78.92813455,\n",
       "       79.82000323, 80.28392451, 79.35020678, 79.94508632, 80.93970656,\n",
       "       78.99735832, 81.23880075, 79.44669567, 80.27634675, 81.04059722,\n",
       "       80.62801473, 79.01000453, 80.84133442, 81.25639321, 78.53839586,\n",
       "       78.6276118 , 79.79941576, 79.98841186, 77.47507753, 79.2056672 ,\n",
       "       81.76947872, 78.85428143, 79.554291  , 79.20113058, 81.72996245,\n",
       "       78.94903656, 80.82600373, 80.68054278, 79.29999059, 81.12112325,\n",
       "       78.47667472, 81.6454365 , 79.03780336, 78.51791147, 80.51325615,\n",
       "       81.60651179, 79.77898183, 79.91648222, 80.36204754, 82.64963949,\n",
       "       78.70663079, 80.30410994, 79.91551781, 80.9780602 , 80.58985521,\n",
       "       80.88630306, 80.02266688, 79.68619953, 79.64032841, 81.26057861,\n",
       "       79.93013071, 79.73054433, 79.45303987, 81.38422118, 79.48694771,\n",
       "       78.93657868, 79.40413674, 80.32850361, 79.90074724, 81.24090667,\n",
       "       79.68794098, 80.09705813, 77.59070881, 80.19889389, 79.08827988,\n",
       "       80.62521305, 82.63076511, 80.24685821, 77.42272551, 79.73544549,\n",
       "       80.10459604, 80.46021852, 80.67192067, 79.68652284, 81.26040152,\n",
       "       79.20989193, 79.42044325, 78.81859226, 82.20567002, 79.16945288,\n",
       "       79.6935323 , 79.45934179, 79.84813609, 80.17588379, 79.49339201,\n",
       "       80.45373766, 81.34187524, 80.76065111, 80.97396542, 79.6835548 ,\n",
       "       79.16478773, 78.45508953, 78.50977736, 78.60723838, 79.38363871,\n",
       "       81.02380233, 79.3061811 , 80.78119878, 79.00023073, 79.48607129,\n",
       "       79.6626997 , 79.39753103, 80.09646797, 80.27258933, 78.6090801 ,\n",
       "       81.12293689, 80.42107955, 80.5592698 , 79.29298932, 79.77241304,\n",
       "       80.81260176, 79.99559839, 81.43298009, 79.06333593, 79.53900619,\n",
       "       79.11067963, 79.48711846, 79.05038642, 80.87387714, 79.69223893,\n",
       "       80.78424938, 79.4841288 , 82.0870423 , 79.68305848, 78.03042411,\n",
       "       79.0058103 , 79.02337919, 80.29641741, 80.66371977, 79.13232197,\n",
       "       80.03147366, 79.2707132 , 80.4126055 , 79.43640409, 81.48002729,\n",
       "       80.80734691, 80.65168987, 79.60229054, 79.55205766, 80.2733351 ,\n",
       "       77.65055831, 80.98506674, 79.63499566, 80.35952231, 80.18978617,\n",
       "       79.91343127, 80.19233373, 79.85111835, 80.83125897, 80.05671329,\n",
       "       77.48943366, 79.99542031, 80.43359782, 78.92743127, 79.13197602,\n",
       "       81.05571761, 81.19920517, 82.15615413, 79.40863721, 81.72162863,\n",
       "       80.18526157, 80.29061703, 79.56295006, 79.08544081, 80.0039994 ,\n",
       "       78.95662302, 81.98149568, 79.93948432, 79.44105525, 80.04321168,\n",
       "       81.24771505, 79.98219313, 80.81514941, 78.98886892, 78.73651493,\n",
       "       81.13513136, 79.87593037, 79.35502931, 79.12100029, 78.33438515,\n",
       "       80.4535079 , 79.9514502 , 78.49506117, 79.69521792, 81.17470978,\n",
       "       79.21345361, 78.29454624, 81.12240634, 80.06180099, 78.27955426,\n",
       "       78.53430808, 81.10415595, 79.65125001, 81.56058415, 79.93867103,\n",
       "       80.42981637, 79.70847858, 81.829578  , 78.80687015, 81.1141862 ,\n",
       "       81.53414351, 81.26543606, 80.47224425, 80.28811908, 80.73394375,\n",
       "       79.87915287, 79.17792862, 79.76130143, 77.66115223, 79.56687557,\n",
       "       80.26718591, 79.24009943, 79.62545475, 80.52400619, 80.89123822,\n",
       "       78.1555721 , 79.7789931 , 79.59118766, 80.23080116, 81.09587654,\n",
       "       80.39957885, 79.77107659, 78.34473995, 80.64337653, 79.60042373,\n",
       "       79.36231604, 80.5067787 , 80.74464563, 81.12611126, 81.08093401,\n",
       "       80.59240741, 79.38451633, 78.57942679, 79.24629097, 81.41314365,\n",
       "       79.79092954, 79.24511258, 79.28946524, 80.01966866, 82.82427529,\n",
       "       78.17986471, 80.32979128, 77.99825219, 79.2917718 , 78.52440132,\n",
       "       79.64639172, 77.29150829, 80.15959763, 81.15016719, 80.35477699,\n",
       "       80.38536406, 79.99870182, 81.41609353, 81.12084718, 78.97246234,\n",
       "       80.87427174, 78.38773951, 79.42857568, 80.34769943, 78.5148717 ,\n",
       "       81.07927024, 83.17911544, 79.87486233, 79.37574368, 80.55283153,\n",
       "       81.92569939, 80.89607939, 80.21617937, 79.5299689 , 80.36493542,\n",
       "       80.98877595, 78.78063528, 81.76426946, 79.75125915, 79.09380942,\n",
       "       80.61366196, 81.22075897, 78.44786197, 79.32245316, 80.11928042,\n",
       "       80.99930294, 79.51137751, 79.41727156, 81.02397398, 80.60957918,\n",
       "       79.96328694, 80.54700434, 78.90332795, 80.64524805, 80.79543182,\n",
       "       80.17343894, 79.62216636, 80.17361326, 80.49436504, 78.96726909,\n",
       "       80.03175263, 81.80663823, 80.51090643, 79.78294517, 80.1385229 ,\n",
       "       80.82221231, 79.4523607 , 77.40604418, 78.83543365, 80.21063508,\n",
       "       81.11541318, 80.4671278 , 80.70893533, 80.54997281, 78.96759954,\n",
       "       81.48419211, 80.05398267, 80.38074166, 80.35276386, 79.65464165,\n",
       "       78.79922636, 79.75767145, 80.97445904, 80.45321762, 80.0356033 ,\n",
       "       80.18566729, 79.4635232 , 81.14617209, 78.65863925, 79.87895172,\n",
       "       79.43321355, 77.57150185, 78.7176422 , 80.0119411 , 78.79838463,\n",
       "       80.15370874, 77.75247337, 80.07467538, 79.85711562, 80.14133921,\n",
       "       80.29315848, 79.83206449, 80.32282471, 80.77223332, 80.28751338,\n",
       "       79.82498716, 80.12147798, 80.13258178, 78.2936676 , 80.42254233,\n",
       "       78.57593475, 79.65968775, 81.96941459, 81.52096291, 79.54849022,\n",
       "       80.14850569, 80.77573244, 80.87334793, 79.39512545, 79.15460137,\n",
       "       80.21308413, 80.76031316, 78.62625918, 79.87313606, 79.37836319,\n",
       "       80.81275004, 79.9053458 , 80.2540984 , 79.80154234, 81.97080408,\n",
       "       80.32314117, 82.77272401, 78.01511031, 79.83189699, 79.42486176,\n",
       "       78.85994216, 80.87635402, 81.2917068 , 81.28711985, 80.24698518,\n",
       "       80.77190349, 78.97304081, 81.59541896, 80.80168251, 81.04802597,\n",
       "       80.10644083, 79.39546749, 80.33953188, 79.13773432, 77.94519575,\n",
       "       80.40672984, 79.58712255, 79.87672358, 78.43029013, 80.38586547,\n",
       "       78.79121244, 79.48490021, 80.87000699, 77.7934544 , 81.12728537,\n",
       "       79.63082027, 79.48131353, 79.43080774, 79.97856853, 79.4978827 ,\n",
       "       79.92645974, 79.31478657, 79.86806752, 80.88297706, 81.19229817,\n",
       "       78.8658147 , 81.60953718, 77.80904937, 81.15238636, 77.37899986,\n",
       "       78.25768827, 80.41031986, 80.67919617, 77.89121713, 79.77177911,\n",
       "       80.66232989, 79.53369272, 80.76730344, 80.9145813 , 79.39408474,\n",
       "       80.5579247 , 79.76734742, 79.84778858, 79.90860758, 78.26177746,\n",
       "       79.48158842, 81.64407282, 79.03157373, 79.74214876, 79.6223071 ,\n",
       "       77.34353592, 77.64163223, 78.38026783, 79.61789055, 80.98834707,\n",
       "       81.40162829, 80.6104454 , 80.19525016, 79.18226727, 79.57448461,\n",
       "       80.52880061, 80.54320347, 78.93892536, 80.77398517, 78.32407302,\n",
       "       81.16589875, 79.24470479, 78.95122556, 81.90065661, 80.46135607,\n",
       "       79.09469965, 77.81621761, 79.73217118, 79.27237572, 77.77323772,\n",
       "       80.70357853, 79.57227326, 81.59388095, 79.63367576, 79.24395258,\n",
       "       77.73021427, 79.60502751, 80.8638121 , 78.83067712, 79.85487072,\n",
       "       80.09710428, 81.32089103, 81.07376167, 80.05885936, 80.1849067 ,\n",
       "       80.8522125 , 80.6972452 , 80.76949101, 80.12931192, 79.53138901,\n",
       "       79.02593707, 82.13670972, 80.66829994, 82.15284424, 78.65020861,\n",
       "       79.71958221, 80.30800781, 80.54237604, 79.41842303, 79.83560692,\n",
       "       80.32348369, 79.44303452, 80.94831272, 78.94522509, 80.30382059,\n",
       "       79.98941563, 79.18235224, 80.06809067, 80.19178142, 80.20895115,\n",
       "       80.49021169, 81.16349104, 79.98757415, 79.53348105, 79.10155761,\n",
       "       79.01206145, 81.38868168, 79.69275964, 78.08409789, 78.96661171,\n",
       "       80.71427643, 78.62618613, 79.99386431, 80.51141026, 80.40631041,\n",
       "       80.02363153, 81.23571895, 79.76209931, 81.93359321, 79.56292841,\n",
       "       79.72247391, 79.44263504, 79.81229344, 79.99462017, 81.26398831,\n",
       "       79.41462049, 79.89791382, 80.31610375, 81.69804513, 79.17174328,\n",
       "       79.9442219 , 79.47948745, 79.71261344, 80.41468277, 80.96441061,\n",
       "       79.62335033, 81.1733712 , 79.96675436, 80.99638366, 80.53586084,\n",
       "       77.25244542, 79.34959586, 80.87520899, 79.0456909 , 79.065716  ,\n",
       "       77.79690753, 80.49807332, 78.75635607, 79.69147339, 79.86994573])"
      ]
     },
     "execution_count": 63,
     "metadata": {},
     "output_type": "execute_result"
    }
   ],
   "source": [
    "W"
   ]
  },
  {
   "cell_type": "code",
   "execution_count": null,
   "metadata": {},
   "outputs": [],
   "source": []
  }
 ],
 "metadata": {
  "kernelspec": {
   "display_name": "Python 3",
   "language": "python",
   "name": "python3"
  },
  "language_info": {
   "codemirror_mode": {
    "name": "ipython",
    "version": 3
   },
   "file_extension": ".py",
   "mimetype": "text/x-python",
   "name": "python",
   "nbconvert_exporter": "python",
   "pygments_lexer": "ipython3",
   "version": "3.8.2"
  }
 },
 "nbformat": 4,
 "nbformat_minor": 4
}
