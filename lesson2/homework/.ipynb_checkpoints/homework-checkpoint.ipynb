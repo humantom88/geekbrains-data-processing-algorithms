{
 "cells": [
  {
   "cell_type": "code",
   "execution_count": 65,
   "metadata": {},
   "outputs": [],
   "source": [
    "import numpy as np\n",
    "import matplotlib.pyplot as plt\n",
    "import pandas as pd\n",
    "\n",
    "def manhattan_distance(v1, v2):\n",
    "    return sum(abs(x - y) for (x, y) in zip(v1, v2))\n",
    "\n",
    "def calc_mse(y, y_pred):\n",
    "    err = np.mean((y - y_pred)**2)\n",
    "    return err\n",
    "\n",
    "def calc_mae(y, y_pred):\n",
    "    err = manhattan_distance(y, y_pred)/y.shape(0)\n",
    "    return err\n",
    "\n",
    "def min_max_scale(X):\n",
    "    return (X - X.min()) / (X.max() - X.min())\n",
    "\n",
    "def standart_scale(X):\n",
    "    mean = X.mean()\n",
    "    std = X.std()\n",
    "    return (X - mean) / std\n",
    "\n",
    "def gradient_descent_reg_l2(X, y, iterations, eta, reg, x_shape_index=0, log=False):\n",
    "    W = np.random.randn(X.shape[x_shape_index])\n",
    "    n = X.shape[x_shape_index]\n",
    "    \n",
    "    for i in range(0, iterations):\n",
    "        y_pred = np.dot(X, W)\n",
    "        err = calc_mse(y, y_pred)\n",
    "        \n",
    "        dQ = 2/n * X.T @ (y_pred - y) # градиент функции ошибки\n",
    "        dReg = reg * W # градиент регуляризации\n",
    "        \n",
    "        W -= eta * dQ + dReg\n",
    "        \n",
    "        if i % (iterations / 10) == 0 and log:\n",
    "            print(f'Iter: {i}, weights: {W}, error {err}')\n",
    "    \n",
    "    if log:\n",
    "        print(f'Final MSE: {calc_mse(y, np.dot(X, W))}')\n",
    "    return W"
   ]
  },
  {
   "cell_type": "markdown",
   "metadata": {},
   "source": [
    "## Задание 1"
   ]
  },
  {
   "cell_type": "markdown",
   "metadata": {},
   "source": [
    "Постройте график зависимости весов всех признаков от lambda в самописной L2-регуляризации (на данных про ЕГЭ). Сделайте вывод"
   ]
  },
  {
   "cell_type": "code",
   "execution_count": 66,
   "metadata": {},
   "outputs": [],
   "source": [
    "# Вес w0; стаж репетитора; стоимость часа занятий; количество занятий в неделю\n",
    "X = np.array([[   1,    1,  500,    1],\n",
    "              [   1,    1,  700,    1],\n",
    "              [   1,    2,  750,    2],\n",
    "              [   1,    5,  600,    1],\n",
    "              [   1,    3, 1450,    2],\n",
    "              [   1,    0,  800,    1],\n",
    "              [   1,    5, 1500,    3],\n",
    "              [   1,   10, 2000,    3],\n",
    "              [   1,    1,  450,    1],\n",
    "              [   1,    2, 1000,    2]])"
   ]
  },
  {
   "cell_type": "code",
   "execution_count": 67,
   "metadata": {},
   "outputs": [],
   "source": [
    "y = [45, 55, 50, 55, 60, 35, 75, 80, 50, 60]"
   ]
  },
  {
   "cell_type": "markdown",
   "metadata": {},
   "source": [
    "Нормализуем данные стажа и стоимости часа, чтобы они были примерно того-же порядка, что и вес w0"
   ]
  },
  {
   "cell_type": "code",
   "execution_count": 68,
   "metadata": {},
   "outputs": [
    {
     "data": {
      "text/plain": [
       "array([[1.00e+00, 1.00e+00, 5.00e+02, 1.00e+00],\n",
       "       [1.00e+00, 1.00e+00, 7.00e+02, 1.00e+00],\n",
       "       [1.00e+00, 2.00e+00, 7.50e+02, 2.00e+00],\n",
       "       [1.00e+00, 5.00e+00, 6.00e+02, 1.00e+00],\n",
       "       [1.00e+00, 3.00e+00, 1.45e+03, 2.00e+00],\n",
       "       [1.00e+00, 0.00e+00, 8.00e+02, 1.00e+00],\n",
       "       [1.00e+00, 5.00e+00, 1.50e+03, 3.00e+00],\n",
       "       [1.00e+00, 1.00e+01, 2.00e+03, 3.00e+00],\n",
       "       [1.00e+00, 1.00e+00, 4.50e+02, 1.00e+00],\n",
       "       [1.00e+00, 2.00e+00, 1.00e+03, 2.00e+00]])"
      ]
     },
     "execution_count": 68,
     "metadata": {},
     "output_type": "execute_result"
    }
   ],
   "source": [
    "X_norm = X.copy()\n",
    "X_norm = X_norm.astype(np.float64)\n",
    "X_norm"
   ]
  },
  {
   "cell_type": "code",
   "execution_count": 69,
   "metadata": {},
   "outputs": [
    {
     "data": {
      "text/plain": [
       "array([[1.        , 0.1       , 0.03225806, 1.        ],\n",
       "       [1.        , 0.1       , 0.16129032, 1.        ],\n",
       "       [1.        , 0.2       , 0.19354839, 2.        ],\n",
       "       [1.        , 0.5       , 0.09677419, 1.        ],\n",
       "       [1.        , 0.3       , 0.64516129, 2.        ],\n",
       "       [1.        , 0.        , 0.22580645, 1.        ],\n",
       "       [1.        , 0.5       , 0.67741935, 3.        ],\n",
       "       [1.        , 1.        , 1.        , 3.        ],\n",
       "       [1.        , 0.1       , 0.        , 1.        ],\n",
       "       [1.        , 0.2       , 0.35483871, 2.        ]])"
      ]
     },
     "execution_count": 69,
     "metadata": {},
     "output_type": "execute_result"
    }
   ],
   "source": [
    "X_norm[:, 1] = min_max_scale(X_norm[:, 1])\n",
    "X_norm[:, 2] = min_max_scale(X_norm[:, 2])\n",
    "X_norm"
   ]
  },
  {
   "cell_type": "markdown",
   "metadata": {},
   "source": [
    "Стандартизируем данные"
   ]
  },
  {
   "cell_type": "code",
   "execution_count": 70,
   "metadata": {},
   "outputs": [
    {
     "data": {
      "text/plain": [
       "array([[ 1.        , -0.70710678, -0.97958969,  1.        ],\n",
       "       [ 1.        , -0.70710678, -0.56713087,  1.        ],\n",
       "       [ 1.        , -0.35355339, -0.46401617,  2.        ],\n",
       "       [ 1.        ,  0.70710678, -0.77336028,  1.        ],\n",
       "       [ 1.        ,  0.        ,  0.97958969,  2.        ],\n",
       "       [ 1.        , -1.06066017, -0.36090146,  1.        ],\n",
       "       [ 1.        ,  0.70710678,  1.08270439,  3.        ],\n",
       "       [ 1.        ,  2.47487373,  2.11385144,  3.        ],\n",
       "       [ 1.        , -0.70710678, -1.08270439,  1.        ],\n",
       "       [ 1.        , -0.35355339,  0.05155735,  2.        ]])"
      ]
     },
     "execution_count": 70,
     "metadata": {},
     "output_type": "execute_result"
    }
   ],
   "source": [
    "X_st = X.copy().astype(np.float64)\n",
    "X_st[:, 1] = standart_scale(X_st[:, 1])\n",
    "X_st[:, 2] = standart_scale(X_st[:, 2])\n",
    "X_st"
   ]
  },
  {
   "cell_type": "code",
   "execution_count": 71,
   "metadata": {},
   "outputs": [
    {
     "data": {
      "text/plain": [
       "array([-0.97958969, -0.56713087, -0.46401617, -0.77336028,  0.97958969,\n",
       "       -0.36090146,  1.08270439,  2.11385144, -1.08270439,  0.05155735])"
      ]
     },
     "execution_count": 71,
     "metadata": {},
     "output_type": "execute_result"
    }
   ],
   "source": [
    "X_st[:, 2]"
   ]
  },
  {
   "cell_type": "code",
   "execution_count": 72,
   "metadata": {},
   "outputs": [
    {
     "data": {
      "text/plain": [
       "array([1.00000000e-05, 4.64158883e-04, 2.15443469e-02, 1.00000000e+00])"
      ]
     },
     "execution_count": 72,
     "metadata": {},
     "output_type": "execute_result"
    }
   ],
   "source": [
    "n = 4\n",
    "lambdas = np.logspace(-5, 0, n)\n",
    "lambdas = lambdas.copy().astype(np.float64)\n",
    "lambdas"
   ]
  },
  {
   "cell_type": "code",
   "execution_count": 86,
   "metadata": {},
   "outputs": [],
   "source": [
    "W_1_array = [gradient_descent_reg_l2(X_st[:, 1], y, iterations=5000, eta=1e-4, reg=lamb, x_shape_index=0, log=False) for lamb in lambdas]\n",
    "W_2_array = [gradient_descent_reg_l2(X_st[:, 2], y, iterations=5000, eta=1e-4, reg=lamb, x_shape_index=0, log=False) for lamb in lambdas]\n",
    "W_3_array = [gradient_descent_reg_l2(X_st[:, 3], y, iterations=5000, eta=1e-4, reg=lamb, x_shape_index=0, log=False) for lamb in lambdas]"
   ]
  },
  {
   "cell_type": "code",
   "execution_count": 74,
   "metadata": {},
   "outputs": [
    {
     "data": {
      "text/plain": [
       "[<matplotlib.lines.Line2D at 0x54a1f40>,\n",
       " <matplotlib.lines.Line2D at 0x54a1fb8>,\n",
       " <matplotlib.lines.Line2D at 0x54af040>,\n",
       " <matplotlib.lines.Line2D at 0x54af0a0>,\n",
       " <matplotlib.lines.Line2D at 0x54af100>,\n",
       " <matplotlib.lines.Line2D at 0x54af160>,\n",
       " <matplotlib.lines.Line2D at 0x54af1c0>,\n",
       " <matplotlib.lines.Line2D at 0x54af220>,\n",
       " <matplotlib.lines.Line2D at 0x54af280>,\n",
       " <matplotlib.lines.Line2D at 0x54af2e0>]"
      ]
     },
     "execution_count": 74,
     "metadata": {},
     "output_type": "execute_result"
    },
    {
     "data": {
      "image/png": "[encoded data removed]",
      "text/plain": [
       "<Figure size 432x288 with 1 Axes>"
      ]
     },
     "metadata": {
      "needs_background": "light"
     },
     "output_type": "display_data"
    }
   ],
   "source": [
    "plt.plot(lambdas, W_1_array)"
   ]
  },
  {
   "cell_type": "code",
   "execution_count": 75,
   "metadata": {
    "scrolled": true
   },
   "outputs": [
    {
     "data": {
      "text/plain": [
       "[<matplotlib.lines.Line2D at 0x5713670>,\n",
       " <matplotlib.lines.Line2D at 0x57136e8>,\n",
       " <matplotlib.lines.Line2D at 0x5713748>,\n",
       " <matplotlib.lines.Line2D at 0x57137a8>,\n",
       " <matplotlib.lines.Line2D at 0x5713808>,\n",
       " <matplotlib.lines.Line2D at 0x5713868>,\n",
       " <matplotlib.lines.Line2D at 0x57138c8>,\n",
       " <matplotlib.lines.Line2D at 0x5713928>,\n",
       " <matplotlib.lines.Line2D at 0x5713988>,\n",
       " <matplotlib.lines.Line2D at 0x57139e8>]"
      ]
     },
     "execution_count": 75,
     "metadata": {},
     "output_type": "execute_result"
    },
    {
     "data": {
      "image/png": "[encoded data removed]",
      "text/plain": [
       "<Figure size 432x288 with 1 Axes>"
      ]
     },
     "metadata": {
      "needs_background": "light"
     },
     "output_type": "display_data"
    }
   ],
   "source": [
    "plt.plot(lambdas, W_2_array)"
   ]
  },
  {
   "cell_type": "code",
   "execution_count": 76,
   "metadata": {},
   "outputs": [
    {
     "data": {
      "text/plain": [
       "[<matplotlib.lines.Line2D at 0x574aef8>,\n",
       " <matplotlib.lines.Line2D at 0x574af70>,\n",
       " <matplotlib.lines.Line2D at 0x574afd0>,\n",
       " <matplotlib.lines.Line2D at 0x5757058>,\n",
       " <matplotlib.lines.Line2D at 0x57570b8>,\n",
       " <matplotlib.lines.Line2D at 0x5757118>,\n",
       " <matplotlib.lines.Line2D at 0x5757178>,\n",
       " <matplotlib.lines.Line2D at 0x57571d8>,\n",
       " <matplotlib.lines.Line2D at 0x5757238>,\n",
       " <matplotlib.lines.Line2D at 0x5757298>]"
      ]
     },
     "execution_count": 76,
     "metadata": {},
     "output_type": "execute_result"
    },
    {
     "data": {
      "image/png": "[encoded data removed]",
      "text/plain": [
       "<Figure size 432x288 with 1 Axes>"
      ]
     },
     "metadata": {
      "needs_background": "light"
     },
     "output_type": "display_data"
    }
   ],
   "source": [
    "plt.plot(lambdas, W_3_array)"
   ]
  },
  {
   "cell_type": "markdown",
   "metadata": {},
   "source": [
    "При малых lambda веса большие, при больших lambda веса стремятся к нулю"
   ]
  },
  {
   "cell_type": "markdown",
   "metadata": {},
   "source": [
    "## Задание 2"
   ]
  },
  {
   "cell_type": "markdown",
   "metadata": {},
   "source": [
    "Напишите функцию наподобие gradient_descent_reg_l2, но для применения L1-регуляризации."
   ]
  },
  {
   "cell_type": "markdown",
   "metadata": {},
   "source": [
    "Производная $d\\lambda |w| = \\frac{w}{|w|}, w \\neq 0$"
   ]
  },
  {
   "cell_type": "code",
   "execution_count": 77,
   "metadata": {},
   "outputs": [],
   "source": [
    "def gradient_descent_reg_l2(X, y, iterations, eta, reg, x_shape_index=0, log=False):\n",
    "    W = np.random.randn(X.shape[x_shape_index])\n",
    "    n = X.shape[x_shape_index]\n",
    "    \n",
    "    for i in range(0, iterations):\n",
    "        y_pred = np.dot(X, W)\n",
    "        err = calc_mse(y, y_pred)\n",
    "        \n",
    "        dQ = 2/n * X.T @ (y_pred - y) # градиент функции ошибки\n",
    "        dReg = reg * W/np.abs(W) # градиент регуляризации\n",
    "        \n",
    "        W -= eta * dQ + dReg\n",
    "        \n",
    "        if i % (iterations / 10) == 0 and log:\n",
    "            print(f'Iter: {i}, weights: {W}, error {err}')\n",
    "    \n",
    "    if log:\n",
    "        print(f'Final MSE: {calc_mse(y, np.dot(X, W))}')\n",
    "    return W"
   ]
  },
  {
   "cell_type": "code",
   "execution_count": 78,
   "metadata": {},
   "outputs": [
    {
     "data": {
      "text/plain": [
       "array([ 9.50912308, 10.44276076,  9.51430344,  8.35539319,  9.97461654,\n",
       "       11.85121164, 10.62736444,  9.81242014,  7.9096688 ,  9.25312478])"
      ]
     },
     "execution_count": 78,
     "metadata": {},
     "output_type": "execute_result"
    }
   ],
   "source": [
    "gradient_descent_reg_l2(X_st[:, 1], y, iterations=5000, eta=1e-4, reg=1e-4, x_shape_index=0, log=False)"
   ]
  },
  {
   "cell_type": "markdown",
   "metadata": {},
   "source": [
    "## Задание 3"
   ]
  },
  {
   "cell_type": "markdown",
   "metadata": {},
   "source": [
    "*Можно ли к одному и тому же признаку применить сразу и нормализацию, и стандартизацию?"
   ]
  },
  {
   "cell_type": "markdown",
   "metadata": {},
   "source": [
    "Нет, не можем. Мы можем лишь умножать и делить элементы столбцов матрицы на одно и то же число. По отдельности операции нормализации и стандартизации не нарушают этот принцип. А вместе уже нарушат."
   ]
  },
  {
   "cell_type": "markdown",
   "metadata": {},
   "source": [
    "## Задание 4"
   ]
  },
  {
   "cell_type": "markdown",
   "metadata": {},
   "source": [
    "*Сгенерируйте датасет при помощи <code>sklearn.datasets.make_regression</code> и обучите линейную модель при помощи градиентного и стохастического градиентного спуска. Нанесите среднеквадратичную ошибку для обоих методов на один график, сделайте выводы о разнице скорости сходимости каждого из методов."
   ]
  },
  {
   "cell_type": "code",
   "execution_count": 96,
   "metadata": {},
   "outputs": [],
   "source": [
    "from sklearn.datasets import make_regression\n",
    "from matplotlib import pyplot as plt\n",
    "\n",
    "X, Y, coef = make_regression(n_samples=1000, n_features=2, n_informative=2, n_targets=1, \n",
    "                                      noise=5, coef=True, random_state=3)"
   ]
  },
  {
   "cell_type": "code",
   "execution_count": 97,
   "metadata": {},
   "outputs": [
    {
     "data": {
      "text/plain": [
       "array([[ 0.59808962, -0.16400084],\n",
       "       [-0.61277018, -0.97358312],\n",
       "       [ 1.04310749, -0.66960072],\n",
       "       ...,\n",
       "       [ 1.22089151, -2.01159456],\n",
       "       [-2.21079164,  0.14181052],\n",
       "       [-0.6387909 , -0.65441521]])"
      ]
     },
     "metadata": {},
     "output_type": "display_data"
    },
    {
     "data": {
      "text/plain": [
       "array([ 2.18002939e+01, -1.29264887e+02, -8.43276087e+00,  1.69905867e+02,\n",
       "        1.34932636e+02, -3.35383428e+01,  9.45677735e+01, -5.43248813e+00,\n",
       "       -2.97081683e+01, -1.71881455e+02, -4.81295141e+00,  1.79865346e+01,\n",
       "        3.09108636e+01, -2.01631274e+01,  1.27694788e+02,  9.20782273e+01,\n",
       "        9.03094898e+01, -9.05676106e+01, -1.39067411e+02, -8.59194598e+01,\n",
       "        1.29584550e+02,  6.65626452e+01,  3.41619343e+01,  1.51864875e+01,\n",
       "       -1.70032387e+02, -1.14705468e+02,  2.09623446e+01,  1.27359186e+02,\n",
       "        1.52259958e+02,  8.89221069e+01,  7.28979898e+01,  6.57444478e+01,\n",
       "        7.56342971e+01,  6.50889164e+01, -6.51067433e+01, -2.31706653e+02,\n",
       "       -3.06575885e+02,  1.21776744e+02,  1.07763814e+01,  7.03212339e+01,\n",
       "       -2.82743354e+01,  1.44732917e+02, -1.25873487e+02,  3.93684880e+02,\n",
       "        5.92817208e+01,  2.24936199e+02, -1.62667908e+02,  6.80326955e+01,\n",
       "       -1.46023736e+02,  2.49756800e+01, -5.40719136e+01,  8.02075171e+01,\n",
       "        6.37027603e+01, -1.15630367e+02,  1.54391062e+02,  1.77757283e+02,\n",
       "        3.38430425e+01,  1.07931023e+02,  1.72703690e+02,  1.54852257e+02,\n",
       "       -5.43617119e+01,  8.40828717e+01, -8.53913670e+01, -9.00068177e+01,\n",
       "       -2.40564549e+01,  3.12722721e+02, -1.87434538e+01, -1.27865763e+02,\n",
       "        3.21150394e+01,  3.17343591e+01,  7.97550285e+01, -6.96879477e+01,\n",
       "        2.11703008e+02,  9.59403030e+01, -2.03774671e+02,  3.01115665e+01,\n",
       "       -9.33480887e+01,  9.46024285e+01,  9.47589003e+01, -1.24576027e+01,\n",
       "       -1.85170894e+02,  7.34534471e+01, -7.65768786e+01, -5.33580512e+01,\n",
       "       -6.38454217e+01,  6.33800381e+01, -3.61662691e+01, -1.46689197e+02,\n",
       "       -1.30664608e+00,  5.54890213e+01,  2.33371977e+02, -1.32498273e+02,\n",
       "        5.48497883e+01,  4.47115713e+01, -1.26686896e+02,  8.25376649e+01,\n",
       "        2.20386599e+02,  1.19642427e+02, -9.58726350e+01, -1.45321777e+02,\n",
       "       -6.28249580e+01, -1.81718254e+02,  1.16540829e+02,  6.13185936e+01,\n",
       "        7.89836618e+01, -1.23357566e+01, -1.37063057e+02, -5.12008923e+01,\n",
       "       -4.31286184e+01, -3.13491457e+00, -7.24803178e+01, -1.65903060e+02,\n",
       "       -2.58818619e+02,  2.54401007e+01,  4.29900352e+01, -1.92636291e+00,\n",
       "       -2.06111105e+02,  3.52968702e+01,  2.16437439e+02,  2.29746057e+01,\n",
       "        7.26157079e+01,  4.08477007e-01, -4.17615989e+01, -1.59667290e+02,\n",
       "       -2.06204073e+02, -1.79914229e+02, -7.51844668e+01, -2.78270048e+02,\n",
       "        3.24692239e-01,  9.46911799e+01,  1.06842159e+02,  7.57446413e+01,\n",
       "        2.41639015e+01, -4.13650729e+01, -7.78813654e+01,  7.80854843e+01,\n",
       "       -5.28914411e+01, -9.58875276e+01,  9.22118601e+01, -4.20787516e+01,\n",
       "        1.22926104e+02,  3.32685992e+01,  7.46141383e+01,  6.95466695e+01,\n",
       "       -1.62753438e+01, -9.20281958e+01,  1.75649037e+01, -1.01115200e+02,\n",
       "       -1.67738498e+02, -3.56117973e+01, -3.58771916e+01,  2.22627609e+01,\n",
       "       -1.26345917e+02, -1.81516824e+02,  2.92771143e+01, -1.42701331e+02,\n",
       "        6.47094905e+01,  2.04954679e+01, -1.31269939e+02,  4.93177790e+01,\n",
       "        1.03307591e+02,  1.04890552e+01, -5.77727711e+01,  5.54706395e+01,\n",
       "        4.58192681e+01,  5.02206003e+01, -1.42463784e+02, -7.07633990e+01,\n",
       "        1.17039163e+02, -4.92626288e+01, -4.79807711e+01,  2.44472583e+02,\n",
       "       -4.40370553e+01,  5.62029672e+01,  1.77080652e+02, -2.47341737e+02,\n",
       "        8.75996122e+01,  2.29829984e+01, -1.28446104e+02,  2.61419568e+00,\n",
       "       -1.30613627e+02,  3.12978080e+01,  2.01023219e+00, -1.80793051e+02,\n",
       "       -1.79897880e+02, -1.98987704e+02, -5.04454607e+01, -3.38575826e+00,\n",
       "        5.74637981e+01,  5.03726542e+00,  5.45139656e+01, -7.65412750e+01,\n",
       "       -6.73570054e+01,  1.39380728e+02,  2.17687763e+01,  1.02458898e+02,\n",
       "       -1.92971127e+02,  4.74568525e+01,  6.11369929e+01, -1.46930467e+02,\n",
       "       -1.93958635e+02, -1.12026404e+02,  4.54428217e+01, -1.04963683e+02,\n",
       "        1.04710895e+02, -8.48864986e+01, -2.10432382e+01,  2.23945921e+02,\n",
       "        1.51122371e+02,  1.30168358e+02,  1.79829380e+02, -5.06734858e+01,\n",
       "       -3.07587653e+02,  2.20324275e+02,  1.00134232e+02,  1.22087379e+02,\n",
       "        6.96300161e+01, -2.99645046e+01, -2.58172959e+00, -2.21513391e+02,\n",
       "        3.01188433e+01,  1.56300335e+01,  1.07444718e+02, -2.57498293e+02,\n",
       "        2.54690198e+01,  1.73089371e+02, -1.65608487e+00,  2.07677965e+01,\n",
       "       -1.13232683e+02, -1.30063832e+02, -7.09786678e+01,  3.82377288e+01,\n",
       "        1.61796206e+02,  4.07164392e+01, -2.31136484e+01,  6.49988255e+01,\n",
       "        6.37653243e+01,  2.00830203e+02,  1.22859649e+02, -2.15484575e+02,\n",
       "        9.23985373e+01,  2.37394037e+00, -3.39193453e+01,  6.05629658e+01,\n",
       "        3.83591170e+01,  9.84647799e+01,  1.64672987e+01,  8.61834411e+01,\n",
       "        6.78873844e+01,  7.55933477e+01, -2.77259111e+02, -5.06431648e+01,\n",
       "       -1.66891813e+02,  3.75873394e+01, -2.21692765e+02, -1.11235246e+02,\n",
       "       -1.32112512e+02,  6.76091016e+01, -6.43912345e+01, -4.89201340e+01,\n",
       "        1.36747341e+02, -7.61411918e+00, -8.46814456e+01, -1.07392883e+02,\n",
       "        1.65795578e+02, -2.38064733e+00,  1.68916271e+01,  1.35139240e+02,\n",
       "        2.98674901e+02, -1.82970993e+01,  5.61013031e+01, -5.68175979e+01,\n",
       "       -9.47912798e+01, -5.17142784e+01, -2.61418880e+00,  1.80430852e+01,\n",
       "       -2.54592427e+02,  1.52467723e+02, -8.64718984e+01, -1.83858532e+02,\n",
       "       -5.09975912e+00, -1.23227138e+02, -7.74601850e+01, -1.04412374e+02,\n",
       "        8.28460421e+01, -3.88137093e+01, -5.47816825e+01,  1.43840126e+01,\n",
       "       -3.48730180e+01, -1.99666648e+02, -3.44411652e+02, -7.90223193e+01,\n",
       "       -8.27211813e+01, -5.68802155e+01,  2.29428906e+01, -5.51322424e+01,\n",
       "       -1.22483848e+02,  1.63205102e+02,  7.82864474e+01,  4.26737856e+01,\n",
       "        7.27419402e+01,  6.45867758e+01, -1.60355529e+01,  1.10893754e+01,\n",
       "       -3.74287475e+00, -2.87968747e+01, -9.01861135e+01,  6.42853480e+00,\n",
       "       -4.64390014e+01, -2.02878428e+01, -1.90793794e+02,  2.65929512e+01,\n",
       "       -1.12250664e+02,  1.22549324e+02,  9.94600840e+01, -1.06881336e+02,\n",
       "        1.22444543e+02,  1.19989301e+02,  4.22172776e+01,  7.76898255e+01,\n",
       "        6.39023481e+01,  7.02672517e+01,  1.05375079e+02, -9.41821171e+01,\n",
       "       -6.11861680e+01,  5.86605430e+01,  4.79311017e+01,  2.33052402e+02,\n",
       "        1.38803759e+01, -7.75517477e+01, -1.72630681e+01,  1.51427592e+02,\n",
       "        1.13624891e+01,  3.33193247e+01, -3.84083664e+01,  1.04609480e+02,\n",
       "       -3.76963828e+01, -6.36475950e+00,  2.16739625e+02,  1.87186256e+01,\n",
       "       -8.93445852e+01,  3.35453566e+01, -9.84552029e+01, -2.40256913e+01,\n",
       "        1.09871798e+01,  3.29479901e+02, -2.26092562e+01,  7.34885431e+01,\n",
       "       -6.85089463e+00, -1.14905521e+01,  1.67544197e+02, -7.32336260e+01,\n",
       "        9.76437793e+00, -5.69770089e+01,  1.14066252e+02,  1.57407744e+02,\n",
       "        9.86487769e+01,  3.86197844e+02,  1.33850255e+02, -1.11698485e+02,\n",
       "       -1.11742633e+01,  5.50929254e+00, -5.80346598e+01,  9.21644466e+01,\n",
       "        9.34826739e+01, -3.67039779e+01,  2.05498517e+01,  3.25533877e+01,\n",
       "        1.14343059e+02,  3.59740545e+01, -2.41311577e+02,  8.50321290e+01,\n",
       "       -2.31561660e+02,  6.00971402e+01,  7.20531926e+01, -1.58024630e+02,\n",
       "       -9.79554301e+01, -1.43678032e+02, -6.94803232e+01,  1.19467820e+02,\n",
       "        9.16591919e+00, -6.80994430e+01,  5.32005906e+01,  8.28437693e+01,\n",
       "        9.71772804e+01,  4.38262704e+01,  5.11561235e+01,  1.37005279e+01,\n",
       "        6.25261098e+01,  2.41846794e+01,  2.97575087e+02,  1.94813222e+01,\n",
       "       -5.42916374e+01,  6.06904567e+01,  9.28278284e+01,  6.15708475e+01,\n",
       "       -6.81626713e+01,  1.95008707e+01,  4.91576712e+01, -4.95583867e+01,\n",
       "       -2.54604462e+01, -7.14708615e+01, -7.40498548e+01,  5.24756869e+01,\n",
       "       -5.82162736e+00,  1.18665511e+02, -1.43329326e+01,  1.92075432e+02,\n",
       "       -5.17278154e+00,  6.54677712e+01,  1.03142416e+02, -7.60401864e+01,\n",
       "       -1.64803576e+02, -3.90402887e+01, -6.33049084e+01, -1.24515212e+02,\n",
       "       -1.36752341e+02,  2.37305883e+01,  6.39162965e+01, -1.56852973e+01,\n",
       "        3.73659449e+01, -2.18973008e+01, -4.75712548e+01, -5.78007495e+01,\n",
       "        6.67694018e+01, -9.48910449e+01, -1.58895890e+02, -4.65930522e+01,\n",
       "        4.11055988e+01,  8.21098433e+01,  1.03957178e+01, -7.35759796e+01,\n",
       "       -6.34099444e+01, -1.55785028e+01, -8.60432464e+00,  6.01226412e+01,\n",
       "       -3.38177282e+01,  2.80907993e+01, -8.19448595e+00,  1.39416060e+02,\n",
       "        1.83811353e+02,  2.34498984e+01,  1.03584851e+02,  2.33255655e+01,\n",
       "        7.32120294e+01, -4.47941719e+01, -1.11117939e+02,  1.74896287e+02,\n",
       "       -4.87428918e+01, -3.77021875e+01,  5.14859957e+01, -5.75661348e+01,\n",
       "       -8.35982632e+01, -1.85375743e+00, -1.59876400e+02,  2.42571963e+01,\n",
       "        1.92494241e+02, -6.20692165e+00,  3.59034243e+01, -1.67720403e+02,\n",
       "       -1.26984286e+01, -9.78077412e+00,  8.33376292e+01, -1.18451098e+01,\n",
       "        1.75030625e+02,  8.08322052e+01,  2.46676442e+02, -8.71829448e+01,\n",
       "       -2.33328488e+02,  1.36768695e+02,  1.53957476e+02, -6.43960295e+01,\n",
       "       -2.62306065e+01, -5.48979096e+01,  1.64341775e+02, -6.32385934e+01,\n",
       "       -5.87309584e+01, -6.10283617e+01,  1.72419367e+02,  1.30371056e+00,\n",
       "       -8.20579014e+01,  4.00818927e+01, -2.00187642e+02,  1.51984338e+01,\n",
       "       -7.41459894e+01, -7.01038562e+01,  4.31895765e+01, -5.85957131e+01,\n",
       "        1.22769535e+02,  1.34810735e+01,  9.97269231e+01,  1.71727834e+02,\n",
       "       -3.16086609e+01,  7.39527672e+01, -3.29256712e+01, -1.77531320e+02,\n",
       "       -1.98839763e+01, -7.47323677e+01,  5.83546764e+01, -1.89621582e+01,\n",
       "       -7.06171207e+01, -4.11159924e+01, -6.12134150e+01,  9.30916000e+01,\n",
       "       -2.13193539e+02, -5.05490388e+01, -6.30254571e+01,  1.39002147e+02,\n",
       "       -4.30822999e+01, -1.97877559e+02,  6.90714454e+01,  1.72327431e+02,\n",
       "       -3.56076157e+01,  6.46956174e+00, -1.79502602e+01, -2.95129397e+00,\n",
       "        2.25373573e+02, -9.48651576e+01,  8.41218088e+01,  4.71540344e+01,\n",
       "       -6.56161648e+01,  3.86835750e+00,  1.74060891e+02,  4.13498038e+01,\n",
       "       -9.30219558e+01, -3.19868381e+01,  8.59397213e-01, -7.06256331e+01,\n",
       "       -3.16397919e+01, -2.46495808e+01, -4.22621496e+01,  2.74122128e+01,\n",
       "        4.17715031e+01,  3.23802413e+01, -5.07387310e+01, -3.38611310e+01,\n",
       "        6.65040889e+01,  8.36685397e+01, -1.42356108e+01, -1.28303839e+02,\n",
       "        1.38098209e+02, -1.09979735e+02,  3.06725658e+01,  4.37772418e+01,\n",
       "       -8.38068288e+01,  1.02820110e+02,  2.36130178e+02,  1.95846503e+01,\n",
       "       -2.48874798e+02, -8.06771954e+01, -1.28825467e+02,  8.23576896e+01,\n",
       "       -4.34741842e-01, -1.51751153e+02,  6.12726841e+01,  4.40358881e+01,\n",
       "       -2.45499577e+02, -2.37958621e+02,  4.38020765e+01,  3.89028752e+01,\n",
       "       -9.15663892e+01, -1.18016503e+02, -5.92254111e+01,  1.00095049e+02,\n",
       "        5.25006752e+01, -6.06359641e+01, -1.28613212e+02,  7.94368563e+01,\n",
       "       -7.81898703e+00, -3.71919056e+01, -1.78595752e+02, -3.93004494e+01,\n",
       "        4.76905028e+01, -1.67461877e+01,  1.26098424e+01,  1.98458223e+01,\n",
       "       -1.40053909e+01,  4.19849005e+00, -2.51643311e+01, -5.34822410e+01,\n",
       "        1.13337529e+02, -8.52427040e+01,  2.65871065e+01,  1.54200656e+02,\n",
       "        1.46451899e+02, -4.36315485e+00,  1.96973021e+02,  2.63751992e+01,\n",
       "        8.04380912e+01, -2.01050179e+02,  5.72135586e+01,  2.87578299e+00,\n",
       "       -5.94687237e+01, -9.24155263e+01,  1.18592007e+01, -2.08928362e+01,\n",
       "        4.18391172e+01, -3.20326369e+01,  1.66745175e+02, -5.72994726e+01,\n",
       "        9.12031805e+01,  7.19642344e+01, -7.12502614e+00,  3.93994231e+01,\n",
       "       -2.47163651e+01, -6.62000383e+01, -1.95077250e+02,  6.57177190e+00,\n",
       "       -2.76159853e+01, -1.08737027e+02, -9.45604561e+01, -1.16414477e+01,\n",
       "       -2.05648940e+01,  9.89957101e+00,  4.76851520e+01,  4.62369224e+00,\n",
       "        5.69192863e+01, -8.23186070e+01,  3.08982638e+01, -1.26020087e+02,\n",
       "       -2.14619532e+02, -3.61043780e+01, -7.12882082e+01,  1.16337587e+02,\n",
       "        3.09521920e+01,  8.31794140e+01,  4.48614736e+01, -1.14635697e+02,\n",
       "        6.04363019e+01,  8.52525047e+01,  5.15838365e+01, -8.89292398e+01,\n",
       "        1.60235899e+02,  1.88568641e+01, -1.41424739e+02,  4.30555366e+01,\n",
       "        1.57469815e+02, -1.62568939e+02,  4.34143802e+01, -4.98166928e+01,\n",
       "       -1.33057373e+02,  4.39142067e+01,  3.12498252e+01, -2.14106055e+02,\n",
       "        1.07662558e+02, -6.78082598e+01, -4.82890438e+01,  1.28428310e+02,\n",
       "        1.11834837e+00,  1.64525217e-01, -6.85728275e+01, -1.96853947e+02,\n",
       "       -1.24719137e+02,  1.56345654e+02,  7.64236832e+01,  3.94835904e+01,\n",
       "       -3.75811756e+01,  1.84800813e+02, -9.67992503e+00, -1.10157276e+02,\n",
       "       -4.89356880e+01, -1.00720399e+01, -7.97452275e+01, -7.52114105e+01,\n",
       "       -6.61504541e+01,  3.49094430e+01,  8.09067180e+01,  4.70272307e+01,\n",
       "       -1.73425202e+02,  8.33655502e+01,  1.04695581e+02, -9.33546968e+01,\n",
       "        1.51209119e+02, -1.76790492e+02, -4.08635518e+01,  3.20715305e+01,\n",
       "       -3.80596188e+01, -2.05919765e+02,  5.19861654e+01, -2.14465625e+02,\n",
       "       -1.64153538e+02,  2.38540116e+02,  9.58721655e+00, -4.10659216e+01,\n",
       "       -3.29283268e+01, -6.69307945e+01,  8.98057590e+01, -1.50535358e+02,\n",
       "       -1.36103746e+02,  9.02826101e+01, -4.22450060e+00,  1.36365299e+02,\n",
       "        7.89910163e+01,  1.74322149e+02,  3.71024376e+01, -3.97970478e+01,\n",
       "        6.51720834e+01,  1.55184777e+01, -2.19781498e+02, -1.96059823e+02,\n",
       "       -1.60712408e+02, -1.08409327e+01, -7.62274733e+01, -3.28161964e+01,\n",
       "       -1.86894371e+02,  4.11831925e+01, -1.04618070e+02, -1.49641740e+02,\n",
       "        4.39108372e+01,  9.96730155e+01, -6.81201982e+01, -4.28904605e+00,\n",
       "       -8.86641660e+01, -2.20934283e+02, -1.55510062e+02,  4.17035469e+01,\n",
       "       -4.41316285e+01, -1.15893546e+02, -3.58038283e+01, -2.58154774e+01,\n",
       "        7.69987269e+01,  5.19114328e+01,  2.32335024e+02, -9.77691734e+01,\n",
       "       -9.89127170e+01, -1.17603901e+02, -7.96885429e+01, -5.92093756e+01,\n",
       "       -1.20612634e+02,  4.17849715e+01, -1.45386236e+01,  6.19621080e+01,\n",
       "        1.55940217e+02, -6.05406034e+01, -4.05847528e+01, -2.61237577e+00,\n",
       "       -1.68966085e+02,  6.38983157e+01, -9.99261839e+01, -4.42427327e+01,\n",
       "       -1.06484715e+02, -3.20768541e+01, -2.96134576e+01, -9.01627909e+01,\n",
       "        9.19910477e+01,  1.02666086e+02, -1.26669230e+02, -8.63846861e+01,\n",
       "        1.07963537e+02,  3.92787784e+01,  1.59479115e+02,  1.67464200e+01,\n",
       "        1.00908406e+01, -7.79696866e+01,  3.84273165e+01, -2.82976486e+02,\n",
       "       -1.15306444e+02,  6.01717438e+01,  1.48030911e+02, -3.21214945e+01,\n",
       "        3.54726116e+01,  1.08016980e+02,  1.70284938e+02, -1.01623587e+02,\n",
       "       -8.04457823e+01, -1.50515650e+02, -5.32845322e+01, -1.39485541e+02,\n",
       "        1.77893309e+01, -1.36908247e+02, -8.37803923e+00,  1.66349906e+02,\n",
       "       -8.58476675e+01,  3.48178487e+01, -9.40412443e+00,  9.48770846e+01,\n",
       "       -5.92703077e+01,  1.12819237e+02, -1.29474149e+02,  1.44627132e+02,\n",
       "       -3.30067657e+01, -2.06297805e+01,  7.89997483e+01, -9.05714104e+01,\n",
       "       -2.22980952e+02, -8.07811430e+01,  1.38144923e+02, -2.34694315e+02,\n",
       "       -2.36957019e+01, -9.97275918e+01,  5.31139335e+00, -1.66834511e+02,\n",
       "        1.94861071e+02, -7.81787081e+01, -7.22260540e+01, -1.28041173e+02,\n",
       "       -2.10281617e+02, -8.21322937e+00,  4.79595108e+01, -3.88886915e+01,\n",
       "        2.01201562e+02, -1.71812678e+02,  3.30884481e+01, -1.27807893e+01,\n",
       "       -1.76141780e+02, -5.76231680e+01,  1.70334435e+02, -1.26234336e+02,\n",
       "       -3.01259274e+01, -7.26650466e+01,  8.16020449e+01,  1.98221752e+02,\n",
       "        3.14335362e+01, -7.44384950e+01,  9.59769670e+01, -7.23970461e+01,\n",
       "        1.08378211e-01,  6.64698701e+01, -1.24395126e+02, -2.02260194e+02,\n",
       "       -2.46051268e+01, -5.58665209e+01,  8.85065716e+01,  3.31180394e+01,\n",
       "       -3.89845985e+01, -2.45136192e+01, -3.68072620e+01,  6.87676042e+01,\n",
       "       -1.71568075e+02,  9.14298877e+01,  2.41713200e+01, -1.14446003e+02,\n",
       "       -8.09356573e+01,  5.99900557e-01, -2.55660004e+01, -3.48305774e+01,\n",
       "        4.26380199e+01,  1.62310742e+02, -5.04708618e+01,  1.53351420e+02,\n",
       "       -2.18453979e+02,  1.69050738e+02, -1.24401450e+01,  2.18059895e+02,\n",
       "        1.75100233e+02, -1.25447193e+02, -3.33625872e+01, -1.32861913e+02,\n",
       "       -7.02680699e+01, -7.13111417e+01,  2.46448269e+01,  8.64841710e+01,\n",
       "        9.40026171e+01,  2.20830153e+01,  5.73022208e+01, -1.63837107e+01,\n",
       "       -1.37121459e+02, -4.01784923e+00, -1.94476562e+02,  2.21782720e+02,\n",
       "        1.98906140e+02, -1.50677079e+02, -2.62249620e+01,  6.05320377e+01,\n",
       "       -2.56350670e+01,  5.50883553e+01,  1.20505794e+02, -2.20343043e+02,\n",
       "        2.55992328e+01, -2.29596435e+01, -8.97189158e+01, -2.34569739e+01,\n",
       "       -1.88516010e+02,  3.67407119e+01, -1.19566120e+02,  1.33957725e+02,\n",
       "        1.54886846e+02,  2.46109476e+01,  1.15730850e+02,  7.16455182e+01,\n",
       "        1.61292423e+02,  5.36866934e+01, -1.99140114e+01, -7.79277988e+01,\n",
       "       -8.01782229e+01,  7.05070370e+01, -2.50606390e+02, -5.04987069e+01,\n",
       "        8.02303356e+00, -1.65940024e+02, -5.39063435e+01,  7.01223382e+01,\n",
       "        5.30025924e+00,  9.29357391e+01, -5.09198341e+01, -9.96369366e+01,\n",
       "        1.05201576e+02,  1.19183590e+02,  3.84971606e+01,  1.06155434e+02,\n",
       "       -9.86298160e+01,  2.04716454e+02, -1.22662861e+02,  1.43112265e+02,\n",
       "        4.73215767e+00, -1.79480631e+02, -2.82070713e+01,  1.83033132e+02,\n",
       "       -1.89577803e+01, -9.81666825e+01,  1.73863477e+02,  1.09100872e+02,\n",
       "       -4.05633928e+00,  9.89781882e+01,  9.84469011e+01, -3.18373476e+01,\n",
       "       -7.74964095e+01,  5.19869508e+01, -2.27629040e+01, -3.74087579e+01,\n",
       "        8.64229427e+01, -1.79312144e+01,  4.92433538e+01, -1.13937227e+02,\n",
       "        1.56485133e+02,  2.28009406e+01, -4.22495514e+01, -6.82358331e+01,\n",
       "       -8.46641067e+01, -1.01194292e+02,  1.77432428e+02,  3.91780029e+01,\n",
       "       -1.03296763e+02,  1.10101494e+02, -1.39888891e+02,  9.46217611e+01,\n",
       "        1.36243035e+02,  1.19298756e+02, -3.43600256e+01,  1.90033539e+02,\n",
       "        1.85577126e+01,  7.70802129e+01,  1.70342380e+02,  8.77298051e+01,\n",
       "       -1.36998372e+02, -5.32619728e+01,  1.40700003e+02,  2.97195335e+02,\n",
       "        8.50045800e+01,  6.47261821e+01, -8.15568953e+01,  2.53995064e+02,\n",
       "       -1.76751073e+02,  1.40742952e+02, -1.16053306e+02, -9.30456099e+01,\n",
       "        4.38666180e+01,  8.55661575e+00, -1.77462901e+02, -1.25992838e+02,\n",
       "       -8.03987765e+01, -6.66701248e+01, -3.49410861e+01,  1.06843483e+02,\n",
       "        5.67312177e+01,  8.03077191e+00,  1.12049600e+02, -1.66514256e+02,\n",
       "       -8.01977015e+01, -1.37073320e+02, -6.11526277e+01,  1.97821091e+02,\n",
       "       -8.88082796e+01,  2.26225950e+02, -4.39331855e+01,  5.92480347e+01,\n",
       "        1.76165222e+01, -6.34430502e+01,  2.03786823e+02,  1.05395899e+02,\n",
       "        2.15194896e+02,  1.35992998e+02, -8.15957643e-02, -7.59396494e+00,\n",
       "        9.79699792e+01, -3.08934004e+01, -1.52618592e+02,  5.17356391e+01,\n",
       "       -5.50884630e+00,  8.85259891e+01,  9.73458342e+01,  1.97487998e+02,\n",
       "       -1.27841163e+02, -1.77668779e+02,  3.61975791e+01,  6.14970525e+01,\n",
       "       -1.59407642e+02, -1.17568945e+02, -1.12994012e+02, -8.64692283e+01])"
      ]
     },
     "metadata": {},
     "output_type": "display_data"
    },
    {
     "data": {
      "text/plain": [
       "array([55.20684117, 92.8290393 ])"
      ]
     },
     "metadata": {},
     "output_type": "display_data"
    }
   ],
   "source": [
    "display(X, Y, coef)"
   ]
  },
  {
   "cell_type": "code",
   "execution_count": 98,
   "metadata": {},
   "outputs": [
    {
     "data": {
      "text/plain": [
       "array([-0.07987856,  0.0204605 ])"
      ]
     },
     "metadata": {},
     "output_type": "display_data"
    },
    {
     "data": {
      "text/plain": [
       "array([0.99326927, 1.02608335])"
      ]
     },
     "metadata": {},
     "output_type": "display_data"
    }
   ],
   "source": [
    "# Получим средние значения и стандартное отклонение по столбцам\n",
    "\n",
    "means = np.mean(X, axis=0)\n",
    "stds = np.std(X, axis=0)\n",
    "# параметр axis указывается для вычисления значений по столбцам, а не по всему массиву\n",
    "display(means, stds)"
   ]
  },
  {
   "cell_type": "code",
   "execution_count": 99,
   "metadata": {},
   "outputs": [],
   "source": [
    "# вычтем каждое значение признака из среднего и поделим на стандартное отклонение\n",
    "for i in range(X.shape[0]):\n",
    "    for j in range(X.shape[1]):\n",
    "        X[i][j] = (X[i][j] - means[j]) / stds[j]"
   ]
  },
  {
   "cell_type": "code",
   "execution_count": 100,
   "metadata": {},
   "outputs": [
    {
     "data": {
      "text/plain": [
       "array([[ 0.68256232, -0.17977228],\n",
       "       [-0.53650267, -0.96877473],\n",
       "       [ 1.13059579, -0.67251966],\n",
       "       ...,\n",
       "       [ 1.30958453, -1.98039961],\n",
       "       [-2.14535287,  0.11826526],\n",
       "       [-0.56269971, -0.65772017]])"
      ]
     },
     "execution_count": 100,
     "metadata": {},
     "output_type": "execute_result"
    }
   ],
   "source": [
    " X"
   ]
  },
  {
   "cell_type": "code",
   "execution_count": 101,
   "metadata": {},
   "outputs": [],
   "source": [
    "W = gradient_descent_reg_l2(X[:, 1], Y, iterations=5000, eta=1e-4, reg=1e-5, x_shape_index=0, log=False) "
   ]
  },
  {
   "cell_type": "code",
   "execution_count": 88,
   "metadata": {},
   "outputs": [
    {
     "data": {
      "text/plain": [
       "array([95.08030057, 94.09268881, 95.39061228, 95.03322817, 95.18610592,\n",
       "       95.5951454 , 93.81437075, 96.06926131, 94.48620714, 95.90813858,\n",
       "       95.52680889, 94.46496388, 93.24651839, 95.12621646, 96.45533566,\n",
       "       94.70798779, 93.94518784, 95.74029151, 94.71734523, 94.45632335,\n",
       "       96.44308574, 93.9094503 , 96.17013543, 94.21658528, 94.05221471,\n",
       "       96.43263728, 96.69690281, 95.15268858, 95.0182241 , 93.43367877,\n",
       "       95.07887247, 95.49134173, 96.31761554, 93.98801735, 94.85347359,\n",
       "       95.77566654, 96.43460545, 97.8194305 , 95.29893615, 97.33297147,\n",
       "       96.18949894, 93.60164316, 95.20628228, 94.18318162, 94.45701032,\n",
       "       95.26326035, 94.7388225 , 93.93800773, 94.36769156, 95.38429998,\n",
       "       94.71056489, 94.49393047, 96.18434227, 96.44508966, 95.39173418,\n",
       "       95.16047454, 93.81922682, 93.73905618, 92.66794602, 94.3618916 ,\n",
       "       94.83611038, 95.25404765, 94.90494612, 97.47589616, 98.13477887,\n",
       "       95.11387732, 94.61482608, 95.39619525, 95.39169863, 95.80823773,\n",
       "       94.67897368, 94.70216047, 93.94943772, 95.12006039, 94.16681912,\n",
       "       94.82103699, 95.02475583, 95.20516936, 94.77230693, 95.36092982,\n",
       "       94.43535036, 94.95591102, 95.54469336, 95.56203306, 94.9110724 ,\n",
       "       95.17297637, 94.12851455, 94.05468128, 96.12527059, 93.61625741,\n",
       "       96.4911996 , 93.75876546, 95.02695933, 93.98639488, 95.51201928,\n",
       "       93.94947752, 97.03381006, 94.11916414, 95.55240163, 95.4473712 ,\n",
       "       94.1898436 , 94.43371338, 94.04699354, 95.52709236, 94.55999369,\n",
       "       94.86153531, 95.33010219, 95.54462347, 95.28904679, 94.79072412,\n",
       "       93.46052916, 96.02832697, 94.33536331, 94.9204028 , 95.49845556,\n",
       "       94.66709022, 94.09275624, 95.2692156 , 93.81106765, 93.8731179 ,\n",
       "       93.80565298, 96.1908055 , 94.39026197, 94.91086596, 94.98781239,\n",
       "       95.71260668, 94.65283538, 94.78482726, 96.64596291, 95.93699072,\n",
       "       94.22392813, 95.72358596, 94.46334736, 95.82500224, 94.92459744,\n",
       "       95.86999086, 94.71780449, 94.20043666, 94.62391217, 95.65211599,\n",
       "       96.59021296, 93.97668929, 95.67413905, 92.69577201, 93.83763477,\n",
       "       95.29936942, 93.92459632, 94.88029128, 95.841864  , 97.10136013,\n",
       "       96.3801027 , 95.30592653, 96.11185736, 94.2678547 , 93.70534314,\n",
       "       92.96487375, 95.28683355, 94.5719577 , 95.90120671, 97.33382207,\n",
       "       94.63972602, 95.49038488, 93.94462176, 93.74782186, 95.56901347,\n",
       "       95.15424732, 93.73622642, 94.88310566, 94.85609672, 94.19139152,\n",
       "       94.13636353, 97.10488631, 94.31240443, 95.38640909, 95.35799594,\n",
       "       92.65621378, 95.54545752, 95.5933274 , 95.02762147, 93.77495035,\n",
       "       95.05756401, 94.51085409, 93.76137841, 94.33929138, 94.42268755,\n",
       "       96.59326704, 95.09308551, 94.17871752, 94.58103864, 95.3667823 ,\n",
       "       94.63079836, 95.25745348, 95.84395275, 96.24569016, 96.26039465,\n",
       "       97.10172049, 95.86634589, 95.0043175 , 96.80168082, 93.89210924,\n",
       "       95.91158601, 95.6755904 , 94.65672264, 93.62156735, 94.81622263,\n",
       "       96.23813385, 95.24724078, 94.78717028, 94.94008494, 96.17253422,\n",
       "       93.79235393, 97.22140614, 94.58527939, 94.12042652, 95.41268321,\n",
       "       95.86690824, 94.31289169, 96.05544582, 93.92693475, 96.25427222,\n",
       "       95.71876886, 93.13485333, 94.90614174, 94.58146473, 95.80739423,\n",
       "       94.40537099, 95.95797035, 93.61160947, 95.55553003, 95.18367139,\n",
       "       95.21687807, 96.17888288, 95.38440079, 94.97957556, 94.74169123,\n",
       "       95.89086007, 94.29777764, 93.59747712, 95.76065829, 95.71559615,\n",
       "       94.23129379, 97.3190243 , 93.78466689, 96.46531236, 94.53073615,\n",
       "       95.71635429, 95.26583615, 96.84974403, 95.17999363, 95.61103425,\n",
       "       95.25789193, 93.71641592, 95.02308661, 96.8255415 , 95.94733365,\n",
       "       96.70685226, 94.61520969, 93.44763664, 94.81216482, 95.27429537,\n",
       "       95.61808173, 94.77291797, 96.12216801, 97.39220448, 94.2270782 ,\n",
       "       94.57820187, 94.47772147, 93.89470328, 94.45835758, 93.43302463,\n",
       "       97.09306944, 94.058739  , 93.53473325, 96.06726151, 94.69423957,\n",
       "       94.18767268, 95.12091306, 95.75108566, 95.04670104, 95.80002246,\n",
       "       96.2420596 , 94.88541201, 95.70891286, 93.22679379, 95.29525278,\n",
       "       93.94559211, 93.79588799, 94.30930452, 92.94830973, 96.01878747,\n",
       "       95.98993556, 94.45998793, 95.3679742 , 95.8335343 , 95.41852829,\n",
       "       95.30246804, 93.24478325, 94.16816551, 95.9899189 , 94.86209926,\n",
       "       94.75777089, 95.40993566, 94.80030491, 94.26122753, 95.45568759,\n",
       "       94.25937315, 94.39797096, 95.98191209, 94.42655593, 96.23938346,\n",
       "       95.24742254, 94.84857001, 94.08830996, 95.18915613, 95.52177035,\n",
       "       94.26457446, 95.51592484, 96.56125583, 95.7457905 , 95.36908286,\n",
       "       96.94415077, 95.50341991, 95.01601535, 95.10710195, 94.92724152,\n",
       "       94.3477608 , 93.93169533, 95.04989347, 95.24034863, 96.29772684,\n",
       "       94.24340951, 93.90156088, 95.63042694, 95.36765772, 93.7174614 ,\n",
       "       94.66642172, 96.35954534, 95.61469365, 92.13985317, 96.38435789,\n",
       "       93.91739659, 95.21992123, 95.59416771, 94.60414219, 94.57848514,\n",
       "       95.37493453, 95.58125565, 94.87740694, 94.5067599 , 95.93435589,\n",
       "       94.15065607, 93.6392248 , 96.33738177, 95.34938835, 95.36867828,\n",
       "       95.57969566, 93.38584342, 95.50116052, 95.98649026, 93.72167413,\n",
       "       93.75687235, 93.46394881, 94.7610785 , 95.12358329, 95.68825201,\n",
       "       93.70686482, 95.0038634 , 96.50630706, 95.3499746 , 94.25836361,\n",
       "       95.47015123, 94.11022563, 94.65827921, 93.56916121, 92.66609801,\n",
       "       95.08060995, 95.59019628, 93.00998301, 95.8341495 , 93.45587031,\n",
       "       94.88629921, 92.99517759, 95.17885938, 95.89126778, 95.14066807,\n",
       "       94.79220122, 93.99524213, 97.16306652, 95.33479028, 93.80138254,\n",
       "       94.32460103, 94.93012634, 95.65496143, 96.13988287, 96.39287093,\n",
       "       96.25118943, 94.38985403, 96.29492831, 94.2086919 , 95.14048349,\n",
       "       94.56383851, 92.73178371, 95.46013401, 95.82448891, 97.05315731,\n",
       "       94.88932817, 96.6771463 , 94.6689568 , 94.93534643, 95.0481469 ,\n",
       "       95.00209051, 94.58370476, 94.01017419, 94.26339429, 94.63001574,\n",
       "       95.4325688 , 94.44292063, 95.24567663, 94.54140387, 94.73965799,\n",
       "       95.26214797, 96.4546976 , 96.03785298, 93.69692606, 95.08429677,\n",
       "       95.48632061, 95.82590677, 94.97276603, 95.78935574, 94.33596073,\n",
       "       95.10503627, 94.43790215, 94.56355066, 94.90657744, 93.18246425,\n",
       "       94.74518497, 95.3253181 , 95.41613811, 94.74274324, 93.87095482,\n",
       "       95.39683651, 93.10630657, 93.8628845 , 95.75949715, 96.15386597,\n",
       "       95.16058681, 97.09451574, 95.3442256 , 94.54646775, 95.62837625,\n",
       "       96.82135422, 95.65183956, 94.467085  , 95.21918598, 93.81498481,\n",
       "       95.85927959, 94.96254312, 93.79624352, 95.95111269, 93.50541271,\n",
       "       93.86958741, 94.10026206, 96.67348364, 96.34306718, 95.81457247,\n",
       "       94.51890619, 92.26749189, 94.78913725, 97.41940098, 96.07785927,\n",
       "       95.11819794, 94.62383038, 94.0236019 , 95.99744093, 93.58012129,\n",
       "       94.40645847, 94.95062028, 94.27536897, 94.89639348, 94.60041417,\n",
       "       95.58197121, 94.6530763 , 95.96593458, 95.61367407, 95.49420715,\n",
       "       94.68653567, 94.72245249, 96.72429129, 95.36603208, 94.03222225,\n",
       "       96.06540628, 94.11575387, 95.25057174, 94.73934091, 94.6168185 ,\n",
       "       93.94965884, 94.89018938, 93.51476292, 93.94056684, 93.47669886,\n",
       "       95.77096744, 95.9459213 , 93.54538253, 94.94392489, 94.2995779 ,\n",
       "       95.76918438, 94.47292302, 95.93658432, 93.97139991, 95.51142885,\n",
       "       95.90410469, 95.48545155, 93.42760741, 95.00590673, 93.91351951,\n",
       "       93.48204198, 96.35160894, 95.66152776, 95.12033409, 94.71394737,\n",
       "       95.81886636, 94.94247706, 93.96971448, 95.75582707, 95.62437717,\n",
       "       96.15346139, 94.44135088, 93.60852536, 96.93797391, 95.84820766,\n",
       "       95.95289009, 96.45112066, 92.47218758, 95.7733545 , 94.88652632,\n",
       "       96.19750649, 94.99524623, 93.64710324, 95.69563463, 96.01422576,\n",
       "       95.32231367, 93.34933064, 96.16533211, 94.7386697 , 95.36605107,\n",
       "       94.71217112, 95.05748576, 92.35665045, 94.91213117, 96.51963871,\n",
       "       95.63903995, 94.71592516, 95.26489961, 95.80356715, 94.16110279,\n",
       "       94.91902582, 94.14748043, 95.37736782, 94.24088473, 96.11585997,\n",
       "       93.1189076 , 94.03137561, 94.73140949, 95.44133703, 95.8673076 ,\n",
       "       96.44549412, 94.60510415, 94.39696215, 94.97047804, 95.76163891,\n",
       "       94.49125661, 95.99944429, 95.62378869, 94.25514983, 95.94157272,\n",
       "       94.34600845, 95.53361284, 95.90573693, 94.42146445, 96.41403337,\n",
       "       93.98801294, 96.0746037 , 93.83458429, 94.98358803, 94.89678199,\n",
       "       94.98961396, 95.13527527, 95.52319336, 96.84315308, 94.59071588,\n",
       "       96.85526718, 95.22300533, 93.4803733 , 94.55374638, 96.69991657,\n",
       "       95.30981953, 95.89841628, 96.43715906, 93.78324549, 93.60493888,\n",
       "       93.69970427, 98.17712243, 94.66097361, 94.08873271, 94.30116864,\n",
       "       94.95668737, 94.68300873, 94.89437869, 93.94376726, 95.99157886,\n",
       "       95.32226575, 95.21928939, 94.62079508, 94.99387811, 94.08079499,\n",
       "       94.65788158, 95.54994116, 94.64936898, 94.73765611, 93.70482835,\n",
       "       96.62795267, 93.64098208, 95.69201736, 95.37888296, 94.10335995,\n",
       "       93.76806351, 94.23865238, 95.58355094, 95.26307838, 95.46519013,\n",
       "       94.97163604, 95.48072341, 93.4760339 , 94.95781568, 96.4377009 ,\n",
       "       95.60722611, 95.19506761, 95.01026694, 96.36647817, 96.97052392,\n",
       "       94.26441982, 95.54481566, 96.04722066, 93.48558797, 95.21837162,\n",
       "       95.06557528, 96.75859138, 95.69729944, 94.25734594, 94.3890768 ,\n",
       "       93.6119418 , 93.41186675, 94.19064501, 94.99838839, 96.04437926,\n",
       "       95.00427184, 95.53032553, 96.35434693, 94.69260947, 96.77779251,\n",
       "       95.85617479, 95.98870036, 94.77426576, 95.08033976, 96.278824  ,\n",
       "       95.98103292, 93.9444411 , 93.47259596, 94.81772182, 95.62873242,\n",
       "       94.47645944, 96.02945807, 94.76496728, 94.63949085, 94.59272184,\n",
       "       94.16871807, 96.47037866, 93.56821031, 94.46907786, 94.25671726,\n",
       "       94.32112531, 93.84192757, 94.56898627, 93.48726391, 94.76973307,\n",
       "       95.00801329, 94.22638503, 95.97214973, 94.51335548, 95.77408607,\n",
       "       96.05494355, 96.45562262, 95.40392803, 95.45034186, 95.01570611,\n",
       "       94.02407736, 96.98522647, 95.20511673, 94.49559887, 95.22524287,\n",
       "       95.33223146, 94.40803253, 94.77547861, 94.16041339, 94.20174184,\n",
       "       93.94832836, 95.52821313, 96.1083908 , 95.44505604, 96.16482988,\n",
       "       95.80877009, 94.69119718, 93.70243424, 95.3864582 , 94.72188266,\n",
       "       96.40551976, 96.20046139, 96.12249978, 92.37032725, 94.97593906,\n",
       "       93.05365024, 94.62559903, 96.14812986, 94.97109463, 93.13888742,\n",
       "       95.95275705, 94.49191691, 95.25812181, 94.64430119, 95.17464862,\n",
       "       96.02637717, 92.5301122 , 94.64488497, 95.82662864, 94.40802879,\n",
       "       94.68441095, 94.98199577, 94.36097285, 95.86079004, 94.53119516,\n",
       "       96.95871937, 93.94834628, 95.0663532 , 94.20837081, 94.60191319,\n",
       "       95.50289523, 92.67546788, 94.86164098, 96.04219477, 94.9223174 ,\n",
       "       96.34464858, 95.96531046, 96.23011807, 95.36046754, 95.17225929,\n",
       "       95.00435247, 94.49392351, 96.34210464, 93.3782083 , 95.04707218,\n",
       "       94.50541174, 94.02497832, 93.7358795 , 93.54885831, 94.59811939,\n",
       "       96.43898345, 94.51655628, 94.70878986, 94.14462991, 95.62666433,\n",
       "       95.72976846, 95.575023  , 96.14317418, 95.0029746 , 94.21264134,\n",
       "       93.14583918, 93.88405246, 94.60145104, 94.60241299, 94.03574933,\n",
       "       93.9658538 , 95.18932766, 94.42400911, 95.19212217, 94.92076512,\n",
       "       95.07280737, 94.58873044, 94.62864649, 94.36406632, 94.06784542,\n",
       "       96.34439994, 95.32244013, 93.97179055, 95.64548516, 93.17536416,\n",
       "       94.28374457, 95.60222525, 94.32276638, 93.66902167, 95.86297464,\n",
       "       94.8218312 , 94.78775192, 95.74841039, 95.62973331, 94.57228035,\n",
       "       94.8087274 , 93.48508355, 95.14420397, 95.41636491, 94.1947484 ,\n",
       "       95.04807307, 95.76970768, 94.29075314, 95.74517069, 95.34197375,\n",
       "       95.45404953, 93.35004983, 94.63431504, 95.38300577, 94.16173625,\n",
       "       95.5294272 , 95.2093028 , 94.69920503, 96.09546824, 95.18314782,\n",
       "       94.93830689, 94.85043236, 95.26439559, 94.64690682, 96.02066293,\n",
       "       93.7382807 , 95.36173926, 93.96473708, 94.59665397, 94.25375892,\n",
       "       94.34554829, 97.76385025, 95.00165021, 92.94938768, 95.11891841,\n",
       "       94.11699237, 93.61857768, 94.43817098, 96.04187428, 92.68680535,\n",
       "       96.53582445, 95.70603857, 94.1735369 , 94.23694306, 92.93822613,\n",
       "       96.20462204, 93.65346963, 95.83223449, 94.79592497, 95.55866603,\n",
       "       94.47083484, 95.64615713, 93.02033808, 95.17470089, 94.61833743,\n",
       "       93.25336659, 95.84633511, 96.77986526, 95.99470453, 94.4080811 ,\n",
       "       95.14183022, 94.03603997, 94.92383049, 94.39845954, 94.41078295,\n",
       "       94.70725253, 96.31494342, 96.6496798 , 95.92973258, 93.97743324,\n",
       "       94.00164535, 94.9710922 , 95.79017479, 93.51010484, 94.77868145,\n",
       "       97.27806572, 93.97492884, 96.27626356, 94.0396143 , 94.98676931,\n",
       "       93.96613973, 94.19882401, 95.55377068, 95.04241386, 95.35191194,\n",
       "       94.71994852, 94.33046812, 96.07348837, 93.92198996, 94.68116566,\n",
       "       95.44430719, 95.92089974, 94.0658036 , 94.98665336, 95.03304261,\n",
       "       94.94076501, 94.97264249, 95.44114044, 95.38855085, 96.31896343,\n",
       "       95.66095068, 95.12720084, 96.07807175, 94.85590065, 94.05020184,\n",
       "       96.59900812, 94.08734936, 93.95152698, 96.81249054, 94.92439494,\n",
       "       94.84511961, 94.94422612, 94.45696466, 94.70061622, 93.71296327,\n",
       "       94.42867375, 94.16864845, 93.79386403, 94.76280725, 93.36500642,\n",
       "       94.29913959, 95.63289843, 94.17430045, 95.95589386, 96.07849349,\n",
       "       94.74222322, 94.18050654, 94.44163311, 94.75029358, 95.44314351,\n",
       "       95.53987907, 93.16965134, 95.18323163, 95.09214608, 95.51368757,\n",
       "       95.85400474, 93.9851718 , 96.43535048, 93.8222051 , 96.02193691,\n",
       "       95.89438203, 95.04411064, 95.04622206, 96.36256423, 94.99394396,\n",
       "       92.99791263, 92.9034297 , 94.6494048 , 93.84783103, 94.6430838 ,\n",
       "       94.74581987, 95.12600624, 95.74279609, 95.77183359, 93.92719128,\n",
       "       93.96425292, 95.34076619, 93.92029649, 94.99854734, 92.91884898,\n",
       "       95.06172824, 94.53067809, 94.26191283, 94.41736999, 95.5832631 ,\n",
       "       95.10402403, 94.81458867, 94.01010311, 95.27734801, 94.46856281,\n",
       "       94.74800806, 95.23027715, 94.18825121, 95.40780442, 94.09541886,\n",
       "       95.32396237, 95.98431815, 95.08030982, 93.82714268, 94.23023502,\n",
       "       94.80310542, 92.7256204 , 95.40271031, 95.33674218, 93.99631998,\n",
       "       97.65220485, 93.35175979, 96.97232224, 94.86215649, 95.30842876,\n",
       "       94.15929297, 95.07689272, 96.4644336 , 95.05434271, 96.46110086])"
      ]
     },
     "execution_count": 88,
     "metadata": {},
     "output_type": "execute_result"
    }
   ],
   "source": [
    "W"
   ]
  },
  {
   "cell_type": "code",
   "execution_count": null,
   "metadata": {},
   "outputs": [],
   "source": []
  }
 ],
 "metadata": {
  "kernelspec": {
   "display_name": "Python 3",
   "language": "python",
   "name": "python3"
  },
  "language_info": {
   "codemirror_mode": {
    "name": "ipython",
    "version": 3
   },
   "file_extension": ".py",
   "mimetype": "text/x-python",
   "name": "python",
   "nbconvert_exporter": "python",
   "pygments_lexer": "ipython3",
   "version": "3.7.3"
  }
 },
 "nbformat": 4,
 "nbformat_minor": 4
}
